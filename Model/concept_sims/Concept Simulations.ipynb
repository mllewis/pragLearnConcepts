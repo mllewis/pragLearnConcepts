{
 "metadata": {
  "name": ""
 },
 "nbformat": 3,
 "nbformat_minor": 0,
 "worksheets": [
  {
   "cells": [
    {
     "cell_type": "markdown",
     "metadata": {},
     "source": [
      "Import stuff "
     ]
    },
    {
     "cell_type": "code",
     "collapsed": false,
     "input": [
      "from conpact2_C import *\n",
      "from concepts_helper import *"
     ],
     "language": "python",
     "metadata": {},
     "outputs": [],
     "prompt_number": 1
    },
    {
     "cell_type": "heading",
     "level": 2,
     "metadata": {},
     "source": [
      "SIMULATION 1: Basic ME. Assume a prior to map word 0 to concept 1. Then observe word 1. What does word 1 map to? "
     ]
    },
    {
     "cell_type": "markdown",
     "metadata": {},
     "source": [
      "Set up world and listener in world"
     ]
    },
    {
     "cell_type": "code",
     "collapsed": false,
     "input": [
      "d = dom(adjectives=2, features=1)\n",
      "listener = conpact2_C.ExactEnumerationSampler(d)"
     ],
     "language": "python",
     "metadata": {},
     "outputs": [],
     "prompt_number": 2
    },
    {
     "cell_type": "markdown",
     "metadata": {},
     "source": [
      "The prior over lexicons for this listener is uniform, before observing any data."
     ]
    },
    {
     "cell_type": "code",
     "collapsed": false,
     "input": [
      "# look at distribution\n",
      "show_lexicon_dist(listener._lexicons, listener.weighted_lexicons()[0], \n",
      "                 title = 'Prior distribution over lexicons')\n"
     ],
     "language": "python",
     "metadata": {},
     "outputs": [
      {
       "metadata": {},
       "output_type": "display_data",
       "png": "[encoded data removed]",
       "text": [
        "<matplotlib.figure.Figure at 0x10b2cf410>"
       ]
      }
     ],
     "prompt_number": 3
    },
    {
     "cell_type": "markdown",
     "metadata": {},
     "source": [
      "But, we want a prior with a bias to map word 0 to concept 1. There are two ways to do this -- (a) build it in to the prior or (b) give the model evidence that word 0 maps to concept 1. Mike suggests the latter."
     ]
    },
    {
     "cell_type": "code",
     "collapsed": false,
     "input": [
      "# (a) set up prior on lexicons\n",
      "#lexicon_prior = weight_lexicon_prior([[0,[1]]],listener._lexicons, d.conceptsA) # maps word 0 to concept 1\n",
      "#listener = conpact2_C.ExactEnumerationSampler(d, lexicon_prior=lexicon_prior) # create new listener with this prior\n",
      "\n",
      "# (b) give model evidence\n",
      "# Concept 1 here corresponds to object 0. So, give evidence that word 0 maps to object 0.\n",
      "listener.add_data([conpact2_C.LDataUttWithMeaning(LISTENER_DEPTH - 1 , 0, 0)])\n",
      "\n",
      "# look at distribution\n",
      "show_lexicon_dist(listener._lexicons, listener.weighted_lexicons()[0])\n",
      "listener.weighted_lexicons()[0]\n"
     ],
     "language": "python",
     "metadata": {},
     "outputs": [
      {
       "metadata": {},
       "output_type": "pyout",
       "prompt_number": 4,
       "text": [
        "array([ -2.19722458,  -3.56573677,  -1.5050769 ,  -1.64017511,\n",
        "        -2.19722458,  -1.50422318,  -8.41283218, -10.33754012,  -2.19722458])"
       ]
      },
      {
       "metadata": {},
       "output_type": "display_data",
       "png": "[encoded data removed]",
       "text": [
        "<matplotlib.figure.Figure at 0x10b4d0450>"
       ]
      }
     ],
     "prompt_number": 4
    },
    {
     "cell_type": "markdown",
     "metadata": {},
     "source": [
      "Now let's give our learner some new data. "
     ]
    },
    {
     "cell_type": "code",
     "collapsed": false,
     "input": [
      "# listener data\n",
      "utterances = np.asarray([[1]])\n",
      "\n",
      "# look at data\n",
      "#show_utterances(utterances)"
     ],
     "language": "python",
     "metadata": {},
     "outputs": [
      {
       "metadata": {},
       "output_type": "pyout",
       "prompt_number": 52,
       "text": [
        "1"
       ]
      }
     ],
     "prompt_number": 52
    },
    {
     "cell_type": "markdown",
     "metadata": {},
     "source": [
      "Look at the in-the-moment distribution over objects (pragmatically strengthened inference), when word 1 heard"
     ]
    },
    {
     "cell_type": "code",
     "collapsed": false,
     "input": [
      "show_object_dist(listener.marginal_dist_n(LISTENER_DEPTH), utterances[0], d.objectsA)\n",
      "np.exp(listener.marginal_dist_n(LISTENER_DEPTH)) "
     ],
     "language": "python",
     "metadata": {},
     "outputs": [
      {
       "metadata": {},
       "output_type": "pyout",
       "prompt_number": 7,
       "text": [
        "array([[ 0.5,  0.5],\n",
        "       [ 0.5,  0.5]])"
       ]
      },
      {
       "metadata": {},
       "output_type": "display_data",
       "png": "[encoded data removed]",
       "text": [
        "<matplotlib.figure.Figure at 0x10acbe210>"
       ]
      }
     ],
     "prompt_number": 7
    },
    {
     "cell_type": "markdown",
     "metadata": {},
     "source": [
      "This is the classic mutual exclusivity effect -- bias to infer the novel word [1] refers to object [2].\n",
      "\n",
      "Now, look at the posterior distribution over lexicons (learning)"
     ]
    },
    {
     "cell_type": "code",
     "collapsed": false,
     "input": [
      "# add data\n",
      "listener.add_data([conpact2_C.LDataUtt(LISTENER_DEPTH - 1, utterances[0][0])])\n",
      "\n",
      "# look at new distribution\n",
      "show_lexicon_dist(listener._lexicons, listener.weighted_lexicons()[0])"
     ],
     "language": "python",
     "metadata": {},
     "outputs": [
      {
       "metadata": {},
       "output_type": "display_data",
       "png": "[encoded data removed]",
       "text": [
        "<matplotlib.figure.Figure at 0x10aaccd50>"
       ]
      }
     ],
     "prompt_number": 8
    },
    {
     "cell_type": "markdown",
     "metadata": {},
     "source": [
      "Now there's a small bias to map word 1 to a lexicon in which word 1 can refer to either object."
     ]
    },
    {
     "cell_type": "heading",
     "level": 2,
     "metadata": {},
     "source": [
      "SIMULATION 2: Graded ME. Does the similarity of the test objects influence the magnitude of the ME inference?"
     ]
    },
    {
     "cell_type": "markdown",
     "metadata": {},
     "source": [
      "Set up world and listener"
     ]
    },
    {
     "cell_type": "code",
     "collapsed": false,
     "input": [
      "d = dom(adjectives=2, features=2)\n",
      "listener = conpact2_C.ExactEnumerationSampler(d)"
     ],
     "language": "python",
     "metadata": {},
     "outputs": [],
     "prompt_number": 9
    },
    {
     "cell_type": "markdown",
     "metadata": {},
     "source": [
      "Set up biased prior"
     ]
    },
    {
     "cell_type": "code",
     "collapsed": false,
     "input": [
      "# set up prior on lexicons\n",
      "lexicon_prior = weight_lexicon_prior([[0,[1, 1]]],listener._lexicons, d.conceptsA) # maps word 0 to concept 1\n",
      "\n",
      "# create new listener with this prior\n",
      "listener = conpact2_C.ExactEnumerationSampler(d, lexicon_prior=lexicon_prior)\n",
      "\n",
      "# look at distribution\n",
      "show_lexicon_dist(listener._lexicons, listener.weighted_lexicons()[0], trim = .02)\n"
     ],
     "language": "python",
     "metadata": {},
     "outputs": [
      {
       "metadata": {},
       "output_type": "display_data",
       "png": "[encoded data removed]",
       "text": [
        "<matplotlib.figure.Figure at 0x10afd2f50>"
       ]
      }
     ],
     "prompt_number": 10
    },
    {
     "cell_type": "markdown",
     "metadata": {},
     "source": [
      "Now, give listener new data."
     ]
    },
    {
     "cell_type": "code",
     "collapsed": false,
     "input": [
      "utterances = np.asarray([[1]])"
     ],
     "language": "python",
     "metadata": {},
     "outputs": [],
     "prompt_number": 11
    },
    {
     "cell_type": "markdown",
     "metadata": {},
     "source": [
      "Look at case where objects very dissimilar"
     ]
    },
    {
     "cell_type": "code",
     "collapsed": false,
     "input": [
      "d.objectsA"
     ],
     "language": "python",
     "metadata": {},
     "outputs": [
      {
       "metadata": {},
       "output_type": "pyout",
       "prompt_number": 12,
       "text": [
        "array([[1, 1],\n",
        "       [1, 2],\n",
        "       [2, 1],\n",
        "       [2, 2]])"
       ]
      }
     ],
     "prompt_number": 12
    },
    {
     "cell_type": "code",
     "collapsed": false,
     "input": [
      "object_prior = weight_object_prior([[1, 1], [2, 2]], d.objectsA)\n",
      "object_prior\n",
      "show_object_dist(listener.marginal_dist_n(LISTENER_DEPTH, log_object_prior = object_prior), utterances[0], d.objectsA)\n",
      "np.exp(listener.marginal_dist_n(LISTENER_DEPTH, log_object_prior = object_prior))"
     ],
     "language": "python",
     "metadata": {},
     "outputs": [
      {
       "metadata": {},
       "output_type": "pyout",
       "prompt_number": 13,
       "text": [
        "array([[  5.64808328e-01,   1.20450696e-09,   1.20450696e-09,\n",
        "          4.35191670e-01],\n",
        "       [  4.19630728e-01,   1.20627478e-09,   1.20627478e-09,\n",
        "          5.80369269e-01]])"
       ]
      },
      {
       "metadata": {},
       "output_type": "display_data",
       "png": "[encoded data removed]",
       "text": [
        "<matplotlib.figure.Figure at 0x10aff7c50>"
       ]
      }
     ],
     "prompt_number": 13
    },
    {
     "cell_type": "markdown",
     "metadata": {},
     "source": [
      "Look at case where objects more similar (share 1 feature)."
     ]
    },
    {
     "cell_type": "code",
     "collapsed": false,
     "input": [
      "object_prior = weight_object_prior([[1, 1], [1, 2]], d.objectsA) \n",
      "show_object_dist(listener.marginal_dist_n(LISTENER_DEPTH, log_object_prior = object_prior), utterances[0], d.objectsA)\n",
      "np.exp(listener.marginal_dist_n(LISTENER_DEPTH, log_object_prior = object_prior))"
     ],
     "language": "python",
     "metadata": {},
     "outputs": [
      {
       "metadata": {},
       "output_type": "pyout",
       "prompt_number": 14,
       "text": [
        "array([[  5.69433785e-01,   4.30566208e-01,   3.98234147e-09,\n",
        "          3.98234147e-09],\n",
        "       [  4.08702609e-01,   5.91297383e-01,   3.98541394e-09,\n",
        "          3.98541394e-09]])"
       ]
      },
      {
       "metadata": {},
       "output_type": "display_data",
       "png": "[encoded data removed]",
       "text": [
        "<matplotlib.figure.Figure at 0x10bac78d0>"
       ]
      }
     ],
     "prompt_number": 14
    },
    {
     "cell_type": "code",
     "collapsed": false,
     "input": [
      "# add data\n",
      "listener.add_data([conpact2_C.LDataUtt(LISTENER_DEPTH - 1, utterances[0][0], log_object_prior = object_prior)])\n",
      "\n",
      "# look at distribution\n",
      "show_lexicon_dist(listener._lexicons, listener.weighted_lexicons()[0], trim = .02)\n",
      "d.conceptsA\n",
      "\n"
     ],
     "language": "python",
     "metadata": {},
     "outputs": [
      {
       "metadata": {},
       "output_type": "pyout",
       "prompt_number": 15,
       "text": [
        "array([[0, 0],\n",
        "       [0, 1],\n",
        "       [0, 2],\n",
        "       [1, 0],\n",
        "       [1, 1],\n",
        "       [1, 2],\n",
        "       [2, 0],\n",
        "       [2, 1],\n",
        "       [2, 2]])"
       ]
      },
      {
       "metadata": {},
       "output_type": "display_data",
       "png": "[encoded data removed]",
       "text": [
        "<matplotlib.figure.Figure at 0x10bacce10>"
       ]
      }
     ],
     "prompt_number": 15
    },
    {
     "cell_type": "markdown",
     "metadata": {},
     "source": [
      "Test by checking lexicon distribution for particular lexicons."
     ]
    },
    {
     "cell_type": "code",
     "collapsed": false,
     "input": [
      "object_prior = weight_object_prior([[1, 1], [2, 2]], d.objectsA) \n",
      "object_prior"
     ],
     "language": "python",
     "metadata": {},
     "outputs": [
      {
       "metadata": {},
       "output_type": "pyout",
       "prompt_number": 16,
       "text": [
        "array([  1.38629436, -23.02585093, -23.02585093,   1.38629436])"
       ]
      }
     ],
     "prompt_number": 16
    },
    {
     "cell_type": "code",
     "collapsed": false,
     "input": [
      "np.exp(d.dist_n(0, [4,0], log_object_prior = object_prior)) #concept 4 = [1,1] #concept 0 = [0,0]"
     ],
     "language": "python",
     "metadata": {},
     "outputs": [
      {
       "metadata": {},
       "output_type": "pyout",
       "prompt_number": 17,
       "text": [
        "array([[ 0.925,  0.025,  0.025,  0.025],\n",
        "       [ 0.475,  0.025,  0.025,  0.475]])"
       ]
      }
     ],
     "prompt_number": 17
    },
    {
     "cell_type": "markdown",
     "metadata": {},
     "source": [
      "This is what we'd expect? This gives you the L0 posterior distribution for the lexicon [4 1], which maps word 0 to concept [1 1] and word 1 to concept [0 0 ]. Qualatiatively, we'd expect something like [[6,1,1,2],[5,2,2,5]] (given a object prior that puts all the mass on objects 0 and 3). "
     ]
    },
    {
     "cell_type": "code",
     "collapsed": false,
     "input": [
      "np.exp(d.dist_n(0, [4,4], log_object_prior = object_prior)) #concept 4 = [1,1]"
     ],
     "language": "python",
     "metadata": {},
     "outputs": [
      {
       "metadata": {},
       "output_type": "pyout",
       "prompt_number": 18,
       "text": [
        "array([[ 0.925,  0.025,  0.025,  0.025],\n",
        "       [ 0.925,  0.025,  0.025,  0.025]])"
       ]
      }
     ],
     "prompt_number": 18
    },
    {
     "cell_type": "markdown",
     "metadata": {},
     "source": [
      "This looks good. "
     ]
    },
    {
     "cell_type": "code",
     "collapsed": false,
     "input": [
      "np.exp(d.dist_n(0, [4,1], log_object_prior = object_prior)) #concept 1 = [0,1]"
     ],
     "language": "python",
     "metadata": {},
     "outputs": [
      {
       "metadata": {},
       "output_type": "pyout",
       "prompt_number": 19,
       "text": [
        "array([[ 0.925,  0.025,  0.025,  0.025],\n",
        "       [ 0.925,  0.025,  0.025,  0.025]])"
       ]
      }
     ],
     "prompt_number": 19
    },
    {
     "cell_type": "markdown",
     "metadata": {},
     "source": [
      "Qualatiatively, we'd expect here something like [[6,1,1,2],[5,1,2,3]] (given a object prior that puts all the mass on objects 0 and 3). This looks good."
     ]
    },
    {
     "cell_type": "markdown",
     "metadata": {},
     "source": [
      "Now, look at object prior case with all weigth on object 0 and 1. "
     ]
    },
    {
     "cell_type": "code",
     "collapsed": false,
     "input": [
      "object_prior = weight_object_prior([[1, 1], [1, 2]], d.objectsA) \n",
      "object_prior"
     ],
     "language": "python",
     "metadata": {},
     "outputs": [
      {
       "metadata": {},
       "output_type": "pyout",
       "prompt_number": 20,
       "text": [
        "array([  1.38629436,   1.38629436, -23.02585093, -23.02585093])"
       ]
      }
     ],
     "prompt_number": 20
    },
    {
     "cell_type": "code",
     "collapsed": false,
     "input": [
      "np.exp(d.dist_n(0, [4,1], log_object_prior = object_prior)) #concept 1 = [0,1]"
     ],
     "language": "python",
     "metadata": {},
     "outputs": [
      {
       "metadata": {},
       "output_type": "pyout",
       "prompt_number": 21,
       "text": [
        "array([[ 0.925,  0.025,  0.025,  0.025],\n",
        "       [ 0.925,  0.025,  0.025,  0.025]])"
       ]
      }
     ],
     "prompt_number": 21
    },
    {
     "cell_type": "markdown",
     "metadata": {},
     "source": [
      "This makes sense.....\n"
     ]
    },
    {
     "cell_type": "code",
     "collapsed": false,
     "input": [
      "np.exp(d.dist_n(0, [4,3], log_object_prior = object_prior)) #concept 3 = [1,0]"
     ],
     "language": "python",
     "metadata": {},
     "outputs": [
      {
       "metadata": {},
       "output_type": "pyout",
       "prompt_number": 22,
       "text": [
        "array([[ 0.925,  0.025,  0.025,  0.025],\n",
        "       [ 0.475,  0.475,  0.025,  0.025]])"
       ]
      }
     ],
     "prompt_number": 22
    },
    {
     "cell_type": "markdown",
     "metadata": {},
     "source": [
      "This makes sense too. [[6, 2, 1, 1],[5, 5, 1, 1]]"
     ]
    },
    {
     "cell_type": "code",
     "collapsed": false,
     "input": [
      "np.exp(d.dist_n(0, [4,4], log_object_prior = object_prior)) #concept 4 = [1,1]"
     ],
     "language": "python",
     "metadata": {},
     "outputs": [
      {
       "metadata": {},
       "output_type": "pyout",
       "prompt_number": 23,
       "text": [
        "array([[ 0.925,  0.025,  0.025,  0.025],\n",
        "       [ 0.925,  0.025,  0.025,  0.025]])"
       ]
      }
     ],
     "prompt_number": 23
    },
    {
     "cell_type": "markdown",
     "metadata": {},
     "source": [
      "Nathaniel claim's that for obj prior: [1, 1] and [2, 2]\n",
      "\n",
      "word 0 -> [1, 1], word 1 -> [1, 1]  (lexicon = [4, 4])\n",
      "\n",
      "and\n",
      "\n",
      "word 0 -> [1, 1], word 1 -> [0, 1]  (lexicon = [4, 1])\n",
      "should be identical"
     ]
    },
    {
     "cell_type": "code",
     "collapsed": false,
     "input": [
      "object_prior = weight_object_prior([[1, 1], [2, 2]], d.objectsA) \n",
      "object_prior"
     ],
     "language": "python",
     "metadata": {},
     "outputs": [
      {
       "metadata": {},
       "output_type": "pyout",
       "prompt_number": 24,
       "text": [
        "array([  1.38629436, -23.02585093, -23.02585093,   1.38629436])"
       ]
      }
     ],
     "prompt_number": 24
    },
    {
     "cell_type": "code",
     "collapsed": false,
     "input": [
      "np.exp(d.dist_n(0, [4,4], log_object_prior = object_prior)) # concept 4 = [1,1]"
     ],
     "language": "python",
     "metadata": {},
     "outputs": [
      {
       "metadata": {},
       "output_type": "pyout",
       "prompt_number": 25,
       "text": [
        "array([[ 0.925,  0.025,  0.025,  0.025],\n",
        "       [ 0.925,  0.025,  0.025,  0.025]])"
       ]
      }
     ],
     "prompt_number": 25
    },
    {
     "cell_type": "code",
     "collapsed": false,
     "input": [
      "np.exp(d.dist_n(0, [4,1], log_object_prior = object_prior)) # concept 1 = [0,1]"
     ],
     "language": "python",
     "metadata": {},
     "outputs": [
      {
       "metadata": {},
       "output_type": "pyout",
       "prompt_number": 26,
       "text": [
        "array([[ 0.925,  0.025,  0.025,  0.025],\n",
        "       [ 0.925,  0.025,  0.025,  0.025]])"
       ]
      }
     ],
     "prompt_number": 26
    },
    {
     "cell_type": "markdown",
     "metadata": {},
     "source": [
      "But, they're not...."
     ]
    },
    {
     "cell_type": "markdown",
     "metadata": {},
     "source": [
      "Look at noise process for bug:"
     ]
    },
    {
     "cell_type": "code",
     "collapsed": false,
     "input": [
      "lexicon = np.array([4, 4])\n",
      "log_object_prior = weight_object_prior([[1, 1], [2, 2]], d.objectsA) \n",
      "w_by_o = np.zeros(shape=(2,4))\n",
      "noise = .1\n",
      "\n",
      "# generate w_by_o via o_by_c (equivalent to the \"lexicon\" in the old model)\n",
      "for w in range(0, 2):\n",
      "    w_by_o[w,:] = d.o_by_c[:,lexicon[w]]\n",
      "\n",
      "\n",
      "w_by_o *= np.exp(log_object_prior[np.newaxis, :])\n",
      "w_by_o"
     ],
     "language": "python",
     "metadata": {},
     "outputs": [
      {
       "metadata": {},
       "output_type": "pyout",
       "prompt_number": 27,
       "text": [
        "array([[ 4.,  0.,  0.,  0.],\n",
        "       [ 4.,  0.,  0.,  0.]])"
       ]
      }
     ],
     "prompt_number": 27
    },
    {
     "cell_type": "code",
     "collapsed": false,
     "input": [
      "# add noise\n",
      "w_by_o_noise = np.ones(shape=np.shape(w_by_o))\n",
      "w_by_o_noise_Z = np.add.reduce(w_by_o_noise, axis=1) # normalize noise\n",
      "w_by_o_noise /= w_by_o_noise_Z [:, np.newaxis]\n",
      "w_by_o_noise\n",
      "\n"
     ],
     "language": "python",
     "metadata": {},
     "outputs": [
      {
       "metadata": {},
       "output_type": "pyout",
       "prompt_number": 28,
       "text": [
        "array([[ 0.25,  0.25,  0.25,  0.25],\n",
        "       [ 0.25,  0.25,  0.25,  0.25]])"
       ]
      }
     ],
     "prompt_number": 28
    },
    {
     "cell_type": "code",
     "collapsed": false,
     "input": [
      "w_by_o_Z = np.add.reduce(w_by_o, axis=1) # normalize w_by_o\n",
      "w_by_o /= w_by_o_Z[:, np.newaxis]\n",
      "\n",
      "w_by_o"
     ],
     "language": "python",
     "metadata": {},
     "outputs": [
      {
       "metadata": {},
       "output_type": "pyout",
       "prompt_number": 29,
       "text": [
        "array([[ 1.,  0.,  0.,  0.],\n",
        "       [ 1.,  0.,  0.,  0.]])"
       ]
      }
     ],
     "prompt_number": 29
    },
    {
     "cell_type": "code",
     "collapsed": false,
     "input": [
      "w_by_o_noise *= noise \n",
      "w_by_o_noise\n"
     ],
     "language": "python",
     "metadata": {},
     "outputs": [
      {
       "metadata": {},
       "output_type": "pyout",
       "prompt_number": 30,
       "text": [
        "array([[ 0.025,  0.025,  0.025,  0.025],\n",
        "       [ 0.025,  0.025,  0.025,  0.025]])"
       ]
      }
     ],
     "prompt_number": 30
    },
    {
     "cell_type": "code",
     "collapsed": false,
     "input": [
      "w_by_o *= 1-noise\n",
      "w_by_o\n"
     ],
     "language": "python",
     "metadata": {},
     "outputs": [
      {
       "metadata": {},
       "output_type": "pyout",
       "prompt_number": 31,
       "text": [
        "array([[ 0.9,  0. ,  0. ,  0. ],\n",
        "       [ 0.9,  0. ,  0. ,  0. ]])"
       ]
      }
     ],
     "prompt_number": 31
    },
    {
     "cell_type": "code",
     "collapsed": false,
     "input": [
      "w_by_o += w_by_o_noise\n",
      "w_by_o"
     ],
     "language": "python",
     "metadata": {},
     "outputs": [
      {
       "metadata": {},
       "output_type": "pyout",
       "prompt_number": 32,
       "text": [
        "array([[ 0.925,  0.025,  0.025,  0.025],\n",
        "       [ 0.925,  0.025,  0.025,  0.025]])"
       ]
      }
     ],
     "prompt_number": 32
    },
    {
     "cell_type": "code",
     "collapsed": false,
     "input": [
      "log_wXo = np.log(w_by_o)\n",
      "logP_wXo = np.dot(d.utts, log_wXo)\n",
      "#logP_wXo += log_object_prior[np.newaxis, :]\n",
      "logZ = np.logaddexp.reduce(logP_wXo, axis=1) # get sum (denominator for normalization)\n",
      "logP_wXo -= logZ[:, np.newaxis] # normalize"
     ],
     "language": "python",
     "metadata": {},
     "outputs": [],
     "prompt_number": 33
    },
    {
     "cell_type": "heading",
     "level": 2,
     "metadata": {},
     "source": [
      "SIMULATION 3: How does pragmatic strengthening in the moment influence lexicon? A case where pragmatics might matter."
     ]
    },
    {
     "cell_type": "markdown",
     "metadata": {},
     "source": [
      "To create interesting differences and the possibility of generalization, use stimuli with features that allow for interesting subordinate/superordinate categories and specificity implicatures. So the core example we were thinking of is a contrast between two objects: Object 1: one familiar/nameable feature, one novel feature Object 2: one novel feature shared with object 1, one unique novel feature So the familiar feature on object 1 suggests that by ME, a novel word should refer to object 2. But in a learning+pragmatics+concepts model, this might be because \"fep\" literally refers to the shared feature and is being pragmatically strengthened; without pragmatics, it needs to refer to the unique feature, or perhaps a conjunction.\n",
      "\n",
      "\n",
      "'w1 1[N1, F1] 2[N1 N2]' w1 -> 2 ... but could refer to N1 (pragmatically strengthened) or N2 (without pragmatics, a constraint)\n"
     ]
    },
    {
     "cell_type": "markdown",
     "metadata": {},
     "source": [
      "Set up a world and listener. We need 3 features and 2 words for this simulation."
     ]
    },
    {
     "cell_type": "code",
     "collapsed": false,
     "input": [
      "d = dom(adjectives=2, features=3)\n",
      "listener = conpact2_C.ExactEnumerationSampler(d)"
     ],
     "language": "python",
     "metadata": {},
     "outputs": [],
     "prompt_number": 34
    },
    {
     "cell_type": "markdown",
     "metadata": {},
     "source": [
      "Let's assume that feature value 2=feature_present, and feature value 1= feature_absent.\n",
      "\n",
      "Let's also assume that the first feature is the familar feature, and the other two are novel: [F N N]\n",
      "\n",
      "So, the case want to consider is where you hear word 1 with [2 2 1] and [1 2 2]. \n",
      "\n",
      "To set up this scenario, we need to do two things: (1) define lexicon prior in which word 0 maps to the familar feature (concept = [2 0 0]) (2) define an object prior with all the weight on the two objects we care about."
     ]
    },
    {
     "cell_type": "markdown",
     "metadata": {},
     "source": [
      "Let's start by defining the lexicon prior."
     ]
    },
    {
     "cell_type": "code",
     "collapsed": false,
     "input": [
      "lexicon_prior = weight_lexicon_prior([[0,[2, 0, 0]]],listener._lexicons, d.conceptsA) # maps word 0 to concept [2 0 0]\n",
      "\n",
      "# create new listener with this prior\n",
      "listener = conpact2_C.ExactEnumerationSampler(d, lexicon_prior=lexicon_prior)\n",
      "\n",
      "# look at distribution\n",
      "#show_lexicon_dist(listener._lexicons, listener.weighted_lexicons()[0])"
     ],
     "language": "python",
     "metadata": {},
     "outputs": [],
     "prompt_number": 35
    },
    {
     "cell_type": "markdown",
     "metadata": {},
     "source": [
      "Define the object prior."
     ]
    },
    {
     "cell_type": "code",
     "collapsed": false,
     "input": [
      "object_prior = weight_object_prior([[2, 2, 1], [1, 2, 2]], d.objectsA) # assign all object weight to objects [2, 2, 1] and [1, 2, 2]\n",
      "object_prior"
     ],
     "language": "python",
     "metadata": {},
     "outputs": [
      {
       "metadata": {},
       "output_type": "pyout",
       "prompt_number": 36,
       "text": [
        "array([-23.02585093, -23.02585093, -23.02585093,   1.38629436,\n",
        "       -23.02585093, -23.02585093,   1.38629436, -23.02585093])"
       ]
      }
     ],
     "prompt_number": 36
    },
    {
     "cell_type": "markdown",
     "metadata": {},
     "source": [
      "Given these priors, the learner gets new data: word 1"
     ]
    },
    {
     "cell_type": "code",
     "collapsed": false,
     "input": [
      "utterances = np.asarray([[1]])"
     ],
     "language": "python",
     "metadata": {},
     "outputs": [],
     "prompt_number": 37
    },
    {
     "cell_type": "markdown",
     "metadata": {},
     "source": [
      "Now, let's look at the in the moment inference."
     ]
    },
    {
     "cell_type": "code",
     "collapsed": false,
     "input": [
      "show_object_dist(listener.marginal_dist_n(LISTENER_DEPTH, log_object_prior = object_prior),\n",
      "                 utterances[0], d.objectsA)"
     ],
     "language": "python",
     "metadata": {},
     "outputs": [
      {
       "metadata": {},
       "output_type": "display_data",
       "png": "[encoded data removed]",
       "text": [
        "<matplotlib.figure.Figure at 0x10bd8fdd0>"
       ]
      }
     ],
     "prompt_number": 38
    },
    {
     "cell_type": "markdown",
     "metadata": {},
     "source": [
      "There is a bias to assume that the novel word refers to the object with the novel feature. But, what feature does the model think this word actually refers to?"
     ]
    },
    {
     "cell_type": "code",
     "collapsed": false,
     "input": [
      "# Give the model data\n",
      "listener.add_data([conpact2_C.LDataUtt(LISTENER_DEPTH - 1, utterances[0][0], log_object_prior = object_prior)])\n",
      "\n",
      "# Now, look at luce choice to between two mappings of interest for word 1 ([0, 2, 0] and [0, 0, 2]) \n",
      "# get concept index for conepts of interest\n",
      "N1_concept = np.all(d.conceptsA == [[0, 2, 0]], axis=1).nonzero()[0][0]\n",
      "N2_concept = np.all(d.conceptsA == [[0, 0, 2]], axis=1).nonzero()[0][0]\n",
      "\n",
      "# get lexicons where word 1 maps to these features\n",
      "N1_i = (listener._lexicons[:,1] == N1_concept).nonzero()[0]\n",
      "N2_i = (listener._lexicons[:,1] == N2_concept).nonzero()[0]\n",
      "\n",
      "# look at luce choice\n",
      "np.sum(listener.weighted_lexicons()[0][N2_i]) / (np.sum(listener.weighted_lexicons()[0][N1_i]) + np.sum(listener.weighted_lexicons()[0][N2_i]))\n",
      "#np.sum(listener.weighted_lexicons()[0][N1_i]) / (np.sum(listener.weighted_lexicons()[0][N1_i]) + np.sum(listener.weighted_lexicons()[0][N2_i]))\n",
      "\n"
     ],
     "language": "python",
     "metadata": {},
     "outputs": [
      {
       "metadata": {},
       "output_type": "pyout",
       "prompt_number": 39,
       "text": [
        "0.50773207483947835"
       ]
      }
     ],
     "prompt_number": 39
    },
    {
     "cell_type": "markdown",
     "metadata": {},
     "source": [
      "A small bias to map word 1 (the novel word) to [0 0 2] as opposed to [0 2 0]. This is not what we predicted...."
     ]
    },
    {
     "cell_type": "heading",
     "level": 2,
     "metadata": {},
     "source": [
      "SIMULATION 4: Compare to antenna simulations from redac model."
     ]
    },
    {
     "cell_type": "heading",
     "level": 3,
     "metadata": {},
     "source": [
      "Antenna #1 Simulation: See two objects with label, and then queried on full space of possible objects\n"
     ]
    },
    {
     "cell_type": "markdown",
     "metadata": {},
     "source": [
      "Set up world."
     ]
    },
    {
     "cell_type": "code",
     "collapsed": false,
     "input": [
      "d = dom(adjectives=2, features=3)\n",
      "listener = conpact2_C.ExactEnumerationSampler(d)"
     ],
     "language": "python",
     "metadata": {},
     "outputs": [],
     "prompt_number": 40
    },
    {
     "cell_type": "markdown",
     "metadata": {},
     "source": [
      "There are 4 training conditions: Two training items share 0, 1, 2, or 3 features."
     ]
    },
    {
     "cell_type": "code",
     "collapsed": false,
     "input": [
      "utterances = np.asarray([[0]])"
     ],
     "language": "python",
     "metadata": {},
     "outputs": [],
     "prompt_number": 41
    },
    {
     "cell_type": "markdown",
     "metadata": {},
     "source": [
      "_Training objects share 0 features:_\n",
      "\n",
      "First, set lexicon prior:"
     ]
    },
    {
     "cell_type": "code",
     "collapsed": false,
     "input": [
      "lexicon_prior = weight_lex_prior_given_obj(0, [[1,1,1],[2,2,2]], d.objectsA, d.o_by_c, listener._lexicons)\n",
      "\n",
      "# create new listener with this prior\n",
      "listener = conpact2_C.ExactEnumerationSampler(d, lexicon_prior=lexicon_prior)\n",
      "\n",
      "# look at distribution\n",
      "#show_lexicon_dist(listener._lexicons, listener.weighted_lexicons()[0])"
     ],
     "language": "python",
     "metadata": {},
     "outputs": [],
     "prompt_number": 42
    },
    {
     "cell_type": "markdown",
     "metadata": {},
     "source": [
      "Now, Look at object distribution"
     ]
    },
    {
     "cell_type": "code",
     "collapsed": false,
     "input": [
      "show_object_dist(listener.marginal_dist_n(LISTENER_DEPTH), utterances[0], d.objectsA)\n",
      "\n",
      "np.exp(listener.marginal_dist_n(LISTENER_DEPTH))"
     ],
     "language": "python",
     "metadata": {},
     "outputs": [
      {
       "metadata": {},
       "output_type": "pyout",
       "prompt_number": 43,
       "text": [
        "array([[ 0.125,  0.125,  0.125,  0.125,  0.125,  0.125,  0.125,  0.125],\n",
        "       [ 0.125,  0.125,  0.125,  0.125,  0.125,  0.125,  0.125,  0.125]])"
       ]
      },
      {
       "metadata": {},
       "output_type": "display_data",
       "png": "[encoded data removed]",
       "text": [
        "<matplotlib.figure.Figure at 0x10bd24090>"
       ]
      }
     ],
     "prompt_number": 43
    },
    {
     "cell_type": "markdown",
     "metadata": {},
     "source": [
      "This does not look like antenna (antenna has 2 categories (a boost for objects you actually saw))."
     ]
    },
    {
     "cell_type": "markdown",
     "metadata": {},
     "source": [
      "_Training objects share 1 features:_\n",
      "\n",
      "First, set lexicon prior:"
     ]
    },
    {
     "cell_type": "code",
     "collapsed": false,
     "input": [
      "lexicon_prior = weight_lex_prior_given_obj(0, [[1,1,1],[1,2,2]], d.objectsA, d.o_by_c, listener._lexicons)\n",
      "\n",
      "# create new listener with this prior\n",
      "listener = conpact2_C.ExactEnumerationSampler(d, lexicon_prior=lexicon_prior)\n",
      "\n",
      "# look at distribution\n",
      "#show_lexicon_dist(listener._lexicons, listener.weighted_lexicons()[0])"
     ],
     "language": "python",
     "metadata": {},
     "outputs": [],
     "prompt_number": 44
    },
    {
     "cell_type": "markdown",
     "metadata": {},
     "source": [
      "Now, Look at object distribution"
     ]
    },
    {
     "cell_type": "code",
     "collapsed": false,
     "input": [
      "show_object_dist(listener.marginal_dist_n(LISTENER_DEPTH),utterances[0], d.objectsA)\n",
      "\n",
      "np.exp(listener.marginal_dist_n(LISTENER_DEPTH))"
     ],
     "language": "python",
     "metadata": {},
     "outputs": [
      {
       "metadata": {},
       "output_type": "pyout",
       "prompt_number": 45,
       "text": [
        "array([[ 0.1294832,  0.1294832,  0.1294832,  0.1294832,  0.1205168,\n",
        "         0.1205168,  0.1205168,  0.1205168],\n",
        "       [ 0.1185599,  0.1185599,  0.1185599,  0.1185599,  0.1314401,\n",
        "         0.1314401,  0.1314401,  0.1314401]])"
       ]
      },
      {
       "metadata": {},
       "output_type": "display_data",
       "png": "[encoded data removed]",
       "text": [
        "<matplotlib.figure.Figure at 0x10bd00810>"
       ]
      }
     ],
     "prompt_number": 45
    },
    {
     "cell_type": "markdown",
     "metadata": {},
     "source": [
      "This does not look like antenna (antenna has four categories)."
     ]
    },
    {
     "cell_type": "markdown",
     "metadata": {},
     "source": [
      "_Training objects share 2 features:_\n",
      "\n",
      "First, set lexicon prior:"
     ]
    },
    {
     "cell_type": "code",
     "collapsed": false,
     "input": [
      "lexicon_prior = weight_lex_prior_given_obj(0, [[1,1,1],[1,1,2]], d.objectsA, d.o_by_c, listener._lexicons)\n",
      "\n",
      "# create new listener with this prior\n",
      "listener = conpact2_C.ExactEnumerationSampler(d, lexicon_prior=lexicon_prior)\n",
      "\n",
      "# look at distribution\n",
      "#show_lexicon_dist(listener._lexicons, listener.weighted_lexicons()[0])"
     ],
     "language": "python",
     "metadata": {},
     "outputs": [],
     "prompt_number": 46
    },
    {
     "cell_type": "markdown",
     "metadata": {},
     "source": [
      "Now, Look at object distribution"
     ]
    },
    {
     "cell_type": "code",
     "collapsed": false,
     "input": [
      "show_object_dist(listener.marginal_dist_n(LISTENER_DEPTH), utterances[0], d.objectsA)\n",
      "\n",
      "np.exp(listener.marginal_dist_n(LISTENER_DEPTH))"
     ],
     "language": "python",
     "metadata": {},
     "outputs": [
      {
       "metadata": {},
       "output_type": "pyout",
       "prompt_number": 47,
       "text": [
        "array([[ 0.14125865,  0.14125865,  0.12214145,  0.12214145,  0.12214145,\n",
        "         0.12214145,  0.11445845,  0.11445845],\n",
        "       [ 0.10644655,  0.10644655,  0.12756866,  0.12756866,  0.12756866,\n",
        "         0.12756866,  0.13841613,  0.13841613]])"
       ]
      },
      {
       "metadata": {},
       "output_type": "display_data",
       "png": "[encoded data removed]",
       "text": [
        "<matplotlib.figure.Figure at 0x1053a7090>"
       ]
      }
     ],
     "prompt_number": 47
    },
    {
     "cell_type": "markdown",
     "metadata": {},
     "source": [
      "This looks like antenna."
     ]
    },
    {
     "cell_type": "markdown",
     "metadata": {},
     "source": [
      "_Training objects share 3 features:_\n",
      "\n",
      "First, set lexicon prior:"
     ]
    },
    {
     "cell_type": "code",
     "collapsed": false,
     "input": [
      "lexicon_prior = weight_lex_prior_given_obj(0, [[1,1,1],[1,1,1]], d.objectsA, d.o_by_c, listener._lexicons)\n",
      "\n",
      "# create new listener with this prior\n",
      "listener = conpact2_C.ExactEnumerationSampler(d, lexicon_prior=lexicon_prior)\n",
      "\n",
      "# look at distribution\n",
      "#show_lexicon_dist(listener._lexicons, listener.weighted_lexicons()[0])"
     ],
     "language": "python",
     "metadata": {},
     "outputs": [],
     "prompt_number": 48
    },
    {
     "cell_type": "markdown",
     "metadata": {},
     "source": [
      "Now, Look at object distribution"
     ]
    },
    {
     "cell_type": "code",
     "collapsed": false,
     "input": [
      "show_object_dist(listener.marginal_dist_n(LISTENER_DEPTH), utterances[0], d.objectsA)\n",
      "\n",
      "np.exp(listener.marginal_dist_n(LISTENER_DEPTH))"
     ],
     "language": "python",
     "metadata": {},
     "outputs": [
      {
       "metadata": {},
       "output_type": "pyout",
       "prompt_number": 49,
       "text": [
        "array([[ 0.16434965,  0.12869207,  0.12869207,  0.11389831,  0.12869207,\n",
        "         0.11389831,  0.11389831,  0.1078792 ],\n",
        "       [ 0.08806335,  0.1199163 ,  0.1199163 ,  0.1359877 ,  0.1199163 ,\n",
        "         0.1359877 ,  0.1359877 ,  0.14422465]])"
       ]
      },
      {
       "metadata": {},
       "output_type": "display_data",
       "png": "[encoded data removed]",
       "text": [
        "<matplotlib.figure.Figure at 0x10bd21a90>"
       ]
      }
     ],
     "prompt_number": 49
    },
    {
     "cell_type": "markdown",
     "metadata": {},
     "source": [
      "This looks like antenna (fourth condition missing from antenna plot)."
     ]
    }
   ],
   "metadata": {}
  }
 ]
}