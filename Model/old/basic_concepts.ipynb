{
 "metadata": {
  "name": ""
 },
 "nbformat": 3,
 "nbformat_minor": 0,
 "worksheets": [
  {
   "cells": [
    {
     "cell_type": "heading",
     "level": 1,
     "metadata": {},
     "source": [
      "Implementation of concepts to basic L0 function"
     ]
    },
    {
     "cell_type": "markdown",
     "metadata": {},
     "source": [
      "Import Classes"
     ]
    },
    {
     "cell_type": "code",
     "collapsed": false,
     "input": [
      "from conpact2 import *\n",
      "from nips import *\n",
      "import itertools"
     ],
     "language": "python",
     "metadata": {},
     "outputs": [],
     "prompt_number": 1
    },
    {
     "cell_type": "markdown",
     "metadata": {},
     "source": [
      "Set up domain (= \"world\") & plot posterior\n",
      "\n",
      "\n"
     ]
    },
    {
     "cell_type": "code",
     "collapsed": false,
     "input": [
      "d = Domain(adjectives=2, features=2, max_utterance_length=2)\n",
      "lexicon_prior = [[1, 1, 1, 1, 5, 1, 1, 1, 1], [1, 1, 1, 1, 1, 1, 1, 1 ,1]]\n",
      "listener = conpact2.FixedSupportImportanceSampler(d, 0, PARTICLES * 10,\n",
      "                                                  lexicon_prior=lexicon_prior)\n",
      "listener.add_data([conpact2.LDataUtt(LISTENER_DEPTH - 1, 1)])\n",
      "\n",
      "def show_ME_posterior(path, listener):\n",
      "    show_lex_posterior(path, listener.weighted_lexicons(), (0, 0), (1, 0),\n",
      "                       xlabel=\"P(Familiar word literally means familiar object)\",\n",
      "                       ylabel=\"P(Novel word literally means familiar object)\")\n",
      "show_ME_posterior(\"ME-prior_M.pdf\", listener)\n",
      "show_ME_posterior(\"ME-1dax_M.pdf\", listener.with_data([conpact2.LDataUtt(LISTENER_DEPTH - 1, 1)]))\n",
      "data = [conpact2.LDataUtt(LISTENER_DEPTH - 1, 1), conpact2.LDataUtt(LISTENER_DEPTH - 1, 0)] * 10\n",
      "\n",
      "show_ME_posterior(\"ME-flat-10dog-10dax)M.pdf\", listener.with_data(data))"
     ],
     "language": "python",
     "metadata": {},
     "outputs": [],
     "prompt_number": 2
    },
    {
     "cell_type": "code",
     "collapsed": false,
     "input": [
      "P_L = np.zeros(shape=(num_utts,num_objects))\n",
      "\n",
      "for u in range(0,num_utts):\n",
      "    current_utt = utts[u]\n",
      "    for o in range(0,num_objects): #loop over object\n",
      "        true_words_in_utt = np.zeros(num_words)\n",
      "        for w in range(0,num_words): #loop over each word in utterance\n",
      "            if (current_utt[w] != 0):\n",
      "                true_obj = 0\n",
      "                for c in range(0,num_concepts): #loop over each concept in lexicon\n",
      "                    # if word is linked to concept and concept linked to object\n",
      "                    if ((lexicon[w,c] == 1) and (o_by_c[o,c] == 1)): \n",
      "                        true_obj = 1\n",
      "                true_words_in_utt[w] = true_obj ** current_utt[w]      \n",
      "        P_L[u,o] = np.prod(true_words_in_utt[true_words_in_utt>0]) \n",
      "\n",
      "logP_L = np.log(P_L)"
     ],
     "language": "python",
     "metadata": {},
     "outputs": [
      {
       "ename": "NameError",
       "evalue": "name 'num_objects' is not defined",
       "output_type": "pyerr",
       "traceback": [
        "\u001b[0;31m---------------------------------------------------------------------------\u001b[0m\n\u001b[0;31mNameError\u001b[0m                                 Traceback (most recent call last)",
        "\u001b[0;32m<ipython-input-10-29b393cb4f40>\u001b[0m in \u001b[0;36m<module>\u001b[0;34m()\u001b[0m\n\u001b[0;32m----> 1\u001b[0;31m \u001b[0mP_L\u001b[0m \u001b[0;34m=\u001b[0m \u001b[0mnp\u001b[0m\u001b[0;34m.\u001b[0m\u001b[0mzeros\u001b[0m\u001b[0;34m(\u001b[0m\u001b[0mshape\u001b[0m\u001b[0;34m=\u001b[0m\u001b[0;34m(\u001b[0m\u001b[0mnum_utts\u001b[0m\u001b[0;34m,\u001b[0m\u001b[0mnum_objects\u001b[0m\u001b[0;34m)\u001b[0m\u001b[0;34m)\u001b[0m\u001b[0;34m\u001b[0m\u001b[0m\n\u001b[0m\u001b[1;32m      2\u001b[0m \u001b[0;34m\u001b[0m\u001b[0m\n\u001b[1;32m      3\u001b[0m \u001b[0;32mfor\u001b[0m \u001b[0mu\u001b[0m \u001b[0;32min\u001b[0m \u001b[0mrange\u001b[0m\u001b[0;34m(\u001b[0m\u001b[0;36m0\u001b[0m\u001b[0;34m,\u001b[0m\u001b[0mnum_utts\u001b[0m\u001b[0;34m)\u001b[0m\u001b[0;34m:\u001b[0m\u001b[0;34m\u001b[0m\u001b[0m\n\u001b[1;32m      4\u001b[0m     \u001b[0mcurrent_utt\u001b[0m \u001b[0;34m=\u001b[0m \u001b[0mutts\u001b[0m\u001b[0;34m[\u001b[0m\u001b[0mu\u001b[0m\u001b[0;34m]\u001b[0m\u001b[0;34m\u001b[0m\u001b[0m\n\u001b[1;32m      5\u001b[0m     \u001b[0;32mfor\u001b[0m \u001b[0mo\u001b[0m \u001b[0;32min\u001b[0m \u001b[0mrange\u001b[0m\u001b[0;34m(\u001b[0m\u001b[0;36m0\u001b[0m\u001b[0;34m,\u001b[0m\u001b[0mnum_objects\u001b[0m\u001b[0;34m)\u001b[0m\u001b[0;34m:\u001b[0m \u001b[0;31m#loop over object\u001b[0m\u001b[0;34m\u001b[0m\u001b[0m\n",
        "\u001b[0;31mNameError\u001b[0m: name 'num_objects' is not defined"
       ]
      }
     ],
     "prompt_number": 10
    },
    {
     "cell_type": "code",
     "collapsed": false,
     "input": [
      "lexicon = np.ones(shape=(2,8))/8\n",
      "lexicon\n",
      "num_utts = 2\n",
      "\n",
      "\n"
     ],
     "language": "python",
     "metadata": {},
     "outputs": [],
     "prompt_number": 9
    },
    {
     "cell_type": "markdown",
     "metadata": {},
     "source": [
      "Set up a lexicon"
     ]
    },
    {
     "cell_type": "code",
     "collapsed": false,
     "input": [
      "lexicon = np.asarray([[0.1, 0.9],\n",
      "                      [0.2, 0.8]])\n",
      "\n",
      "lexicon = np.ones(shape=(2,9))/9\n",
      "lexicon"
     ],
     "language": "python",
     "metadata": {},
     "outputs": [
      {
       "metadata": {},
       "output_type": "pyout",
       "prompt_number": 4,
       "text": [
        "array([[ 0.11111111,  0.11111111,  0.11111111,  0.11111111,  0.11111111,\n",
        "         0.11111111,  0.11111111,  0.11111111,  0.11111111],\n",
        "       [ 0.11111111,  0.11111111,  0.11111111,  0.11111111,  0.11111111,\n",
        "         0.11111111,  0.11111111,  0.11111111,  0.11111111]])"
       ]
      }
     ],
     "prompt_number": 4
    },
    {
     "cell_type": "markdown",
     "metadata": {},
     "source": [
      "Get weighted lexicon"
     ]
    },
    {
     "cell_type": "code",
     "collapsed": false,
     "input": [
      "L0 = d.L0(lexicon, np.log([.25, .25, .25, .25]))\n",
      "L0_raw = np.exp(L0)\n",
      "L0_raw\n"
     ],
     "language": "python",
     "metadata": {},
     "outputs": [
      {
       "metadata": {},
       "output_type": "pyout",
       "prompt_number": 5,
       "text": [
        "array([[ 0.25,  0.25,  0.25,  0.25],\n",
        "       [ 0.25,  0.25,  0.25,  0.25],\n",
        "       [ 0.25,  0.25,  0.25,  0.25],\n",
        "       [ 0.25,  0.25,  0.25,  0.25],\n",
        "       [ 0.25,  0.25,  0.25,  0.25]])"
       ]
      }
     ],
     "prompt_number": 5
    },
    {
     "cell_type": "markdown",
     "metadata": {},
     "source": [
      "---BUT--- what we want now is a lexicon where the mapping is between words and concepts, and concepts inconsitent with object are ruled out.\n",
      "\n",
      "So, let's look more closely at L0...\n",
      "\n",
      "First define some stuff we'll need need:"
     ]
    },
    {
     "cell_type": "code",
     "collapsed": false,
     "input": [
      "# new domain\n",
      "utts = np.array([[1,0],[0,1]])\n",
      "max_utterance_length = 1\n",
      "features = 2\n",
      "concepts = 3**features\n",
      "objects = 2**features\n",
      "words = d.adjectives\n",
      "num_utts = len(utts)\n",
      "lexicon = np.array([[1,0,0,0,0,0,0,0], [0,0,0,0,0,0,0,1]])\n",
      "log_object_prior = np.ones(objects)\n",
      "\n",
      "conceptsA = np.array(list(itertools.product([0, 1, 2], repeat=features)))\n",
      "objectsA = np.array(list(itertools.product([1, 2], repeat=features)))\n",
      "\n",
      "lexicon"
     ],
     "language": "python",
     "metadata": {},
     "outputs": [
      {
       "metadata": {},
       "output_type": "pyout",
       "prompt_number": 28,
       "text": [
        "array([[1, 0, 0, 0, 0, 0, 0, 0],\n",
        "       [0, 0, 0, 0, 0, 0, 0, 1]])"
       ]
      }
     ],
     "prompt_number": 28
    },
    {
     "cell_type": "markdown",
     "metadata": {},
     "source": [
      "Get o by c array"
     ]
    },
    {
     "cell_type": "code",
     "collapsed": false,
     "input": [
      "o_by_c = np.zeros(shape=(objects,concepts))\n",
      "\n",
      "for o in range(0,objects):\n",
      "    current_o = objectsA[o,:]\n",
      "    for c in range(0,concepts):\n",
      "        current_c= conceptsA[c,:]\n",
      "        concept_check = np.zeros(features)\n",
      "        for f in range(0,features):\n",
      "            if ((current_c[f] == current_o[f]) or (current_c[f] == 0)):\n",
      "                concept_check[f] = 1\n",
      "            else:\n",
      "                concept_check[f] = 0\n",
      "        if all(concept_check):\n",
      "            o_by_c[o,c] = 1\n",
      "            \n",
      "o_by_c\n",
      "objects"
     ],
     "language": "python",
     "metadata": {},
     "outputs": [
      {
       "metadata": {},
       "output_type": "pyout",
       "prompt_number": 29,
       "text": [
        "4"
       ]
      }
     ],
     "prompt_number": 29
    },
    {
     "cell_type": "code",
     "collapsed": false,
     "input": [],
     "language": "python",
     "metadata": {},
     "outputs": []
    },
    {
     "cell_type": "code",
     "collapsed": false,
     "input": [
      "P_L = np.zeros(shape=(num_utts,objects))\n",
      "\n",
      "for u in range(0,num_utts-1):\n",
      "    current_utt = utts[u]\n",
      "    for o in range(0,objects-1): #loop over object\n",
      "        true_words_in_utt = np.zeros(words)\n",
      "        for w in range(0,words-1): #loop over each word in utterance\n",
      "            if (current_utt[w] != 0):\n",
      "                true_obj = 0\n",
      "                for c in range(0,concepts-1): #loop over each concept in lexicon\n",
      "                    # if word is linked to concept and concept linked to object\n",
      "                    if ((lexicon[w,c] == 1) and (o_by_c[o,c] == 1)): \n",
      "                        true_obj = 1\n",
      "                true_words_in_utt[w] = true_obj ** current_utt[w]      \n",
      "        P_L[u,o] = np.prod(true_words_in_utt[true_words_in_utt>0]) \n",
      "\n",
      "logP_L = np.log(P_L)\n",
      "\n",
      "P_L\n"
     ],
     "language": "python",
     "metadata": {},
     "outputs": [
      {
       "output_type": "stream",
       "stream": "stderr",
       "text": [
        "-c:17: RuntimeWarning: divide by zero encountered in log\n"
       ]
      },
      {
       "metadata": {},
       "output_type": "pyout",
       "prompt_number": 31,
       "text": [
        "array([[ 1.,  1.,  1.,  0.],\n",
        "       [ 0.,  0.,  0.,  0.]])"
       ]
      }
     ],
     "prompt_number": 31
    },
    {
     "cell_type": "code",
     "collapsed": false,
     "input": [
      "lexicon"
     ],
     "language": "python",
     "metadata": {},
     "outputs": [
      {
       "metadata": {},
       "output_type": "pyout",
       "prompt_number": 25,
       "text": [
        "array([[ 0.11111111,  0.11111111,  0.11111111,  0.11111111,  0.11111111,\n",
        "         0.11111111,  0.11111111,  0.11111111,  0.11111111],\n",
        "       [ 0.11111111,  0.11111111,  0.11111111,  0.11111111,  0.11111111,\n",
        "         0.11111111,  0.11111111,  0.11111111,  0.11111111]])"
       ]
      }
     ],
     "prompt_number": 25
    },
    {
     "cell_type": "markdown",
     "metadata": {},
     "source": [
      "Create u by o array. For each utterance - object hypothesis, determine (i) whether object true of a concept linked to each word utterance (ii) multiply all true objects together."
     ]
    },
    {
     "cell_type": "code",
     "collapsed": false,
     "input": [
      "o_by_w = np.dot(o_by_c,np.transpose(lexicon))\n",
      "P_L = np.dot(o_by_w, np.transpose(utts))\n",
      "logP_L = np.log(P_L)"
     ],
     "language": "python",
     "metadata": {},
     "outputs": [],
     "prompt_number": 462
    },
    {
     "cell_type": "code",
     "collapsed": false,
     "input": [
      "o_by_w = np.dot(o_by_c,np.transpose(lexicon))\n",
      "P_L = np.dot(o_by_w, np.transpose(utts))\n",
      "P_L\n"
     ],
     "language": "python",
     "metadata": {},
     "outputs": [
      {
       "metadata": {},
       "output_type": "pyout",
       "prompt_number": 450,
       "text": [
        "array([[ 0.44444444],\n",
        "       [ 0.44444444],\n",
        "       [ 0.44444444],\n",
        "       [ 0.44444444]])"
       ]
      }
     ],
     "prompt_number": 450
    },
    {
     "cell_type": "code",
     "collapsed": false,
     "input": [
      "logP_L += log_object_prior[np.newaxis, :] # multiply by prior\n",
      "logZ = np.logaddexp.reduce(logP_L, axis=1) # get sum (denominator for normalization)\n",
      "logP_L -= logZ[:, np.newaxis] # normalize\n",
      "logP_L"
     ],
     "language": "python",
     "metadata": {},
     "outputs": [
      {
       "metadata": {},
       "output_type": "pyout",
       "prompt_number": 455,
       "text": [
        "array([[-1.38629436, -1.38629436, -1.38629436, -1.38629436]])"
       ]
      }
     ],
     "prompt_number": 455
    },
    {
     "cell_type": "markdown",
     "metadata": {},
     "source": [
      "Next, \n",
      "(i) multyiply by prior\n",
      "(ii) renormalize"
     ]
    },
    {
     "cell_type": "markdown",
     "metadata": {},
     "source": [
      " "
     ]
    },
    {
     "cell_type": "code",
     "collapsed": false,
     "input": [
      "lexicon_prior = [[5, 1, 1, 1, 1, 1, 1, 1 ,1], [1, 1, 1, 1, 1, 1, 1, 1 ,1]]\n",
      "listener = conpact2.FixedSupportImportanceSampler(d, 0, PARTICLES * 10,\n",
      "                                                  lexicon_prior=lexicon_prior)\n",
      "listener.add_data([conpact2.LDataUtt(LISTENER_DEPTH - 1, 1)])\n",
      "def show_ME_posterior(path, listener):\n",
      "    show_lex_posterior(path, listener.weighted_lexicons(), (0, 0), (1, 0),\n",
      "                       xlabel=\"P(Familiar word literally means familiar object)\",\n",
      "                       ylabel=\"P(Novel word literally means familiar object)\")\n",
      "show_ME_posterior(\"ME-prior.pdf\", listener)"
     ],
     "language": "python",
     "metadata": {},
     "outputs": [],
     "prompt_number": 10
    },
    {
     "cell_type": "code",
     "collapsed": false,
     "input": [
      "dir(listener)\n",
      "listener._data"
     ],
     "language": "python",
     "metadata": {},
     "outputs": [
      {
       "metadata": {},
       "output_type": "pyout",
       "prompt_number": 53,
       "text": [
        "[<conpact2.LDataUtt at 0x10aa04dd0>]"
       ]
      }
     ],
     "prompt_number": 53
    },
    {
     "cell_type": "code",
     "collapsed": false,
     "input": [
      "dir(conpact2.LDataUtt(LISTENER_DEPTH - 1, 1))"
     ],
     "language": "python",
     "metadata": {},
     "outputs": [
      {
       "metadata": {},
       "output_type": "pyout",
       "prompt_number": 56,
       "text": [
        "['__class__',\n",
        " '__delattr__',\n",
        " '__dict__',\n",
        " '__doc__',\n",
        " '__format__',\n",
        " '__getattribute__',\n",
        " '__hash__',\n",
        " '__init__',\n",
        " '__module__',\n",
        " '__new__',\n",
        " '__reduce__',\n",
        " '__reduce_ex__',\n",
        " '__repr__',\n",
        " '__setattr__',\n",
        " '__sizeof__',\n",
        " '__str__',\n",
        " '__subclasshook__',\n",
        " '__weakref__',\n",
        " '_log_object_prior',\n",
        " '_speaker',\n",
        " '_utt',\n",
        " 'log_likelihood']"
       ]
      }
     ],
     "prompt_number": 56
    },
    {
     "cell_type": "code",
     "collapsed": false,
     "input": [
      "print str(a._data).strip('[]')"
     ],
     "language": "python",
     "metadata": {},
     "outputs": [
      {
       "output_type": "stream",
       "stream": "stdout",
       "text": [
        "<conpact2.LDataUtt object at 0x108fc0390>\n"
       ]
      }
     ],
     "prompt_number": 46
    },
    {
     "cell_type": "code",
     "collapsed": false,
     "input": [
      "adjectives = 2\n",
      "assert max_utterance_length <= 255\n",
      "words_with_null = [None] + range(adjectives)\n",
      "utt_iter = combinations_with_replacement(words_with_null,\n",
      "                                         max_utterance_length)\n",
      "# skip the null utterance:\n",
      "#skipped = utt_iter.next()\n",
      "#assert skipped == (None,) * max_utterance_length\n",
      "# and for all the rest, fill in the corresponding bag:\n",
      "#for i, utt in enumerate(utt_iter):\n",
      " #   for word in utt:\n",
      " #       if word is not None:\n",
      " #           utts[i, word] += 1\n",
      "#assert i + 1 == utts.shape[0]\n",
      "\n",
      "list(enumerate(utt_iter))\n"
     ],
     "language": "python",
     "metadata": {},
     "outputs": [
      {
       "ename": "IndentationError",
       "evalue": "unexpected indent (<ipython-input-268-25a306a39434>, line 3)",
       "output_type": "pyerr",
       "traceback": [
        "\u001b[0;36m  File \u001b[0;32m\"<ipython-input-268-25a306a39434>\"\u001b[0;36m, line \u001b[0;32m3\u001b[0m\n\u001b[0;31m    skipped = utt_iter.next()\u001b[0m\n\u001b[0m    ^\u001b[0m\n\u001b[0;31mIndentationError\u001b[0m\u001b[0;31m:\u001b[0m unexpected indent\n"
       ]
      }
     ],
     "prompt_number": 268
    },
    {
     "cell_type": "code",
     "collapsed": false,
     "input": [
      "range(0,num_words)\n",
      "\n"
     ],
     "language": "python",
     "metadata": {},
     "outputs": [
      {
       "metadata": {},
       "output_type": "pyout",
       "prompt_number": 324,
       "text": [
        "[0, 1]"
       ]
      }
     ],
     "prompt_number": 324
    },
    {
     "cell_type": "code",
     "collapsed": false,
     "input": [
      "logP_L"
     ],
     "language": "python",
     "metadata": {},
     "outputs": [
      {
       "metadata": {},
       "output_type": "pyout",
       "prompt_number": 327,
       "text": [
        "array([[ 0.,  0.,  0.,  0.,  0.,  0.,  0.,  0.,  0.,  0.],\n",
        "       [ 0.,  0.,  0.,  0.,  0.,  0.,  0.,  0.,  0.,  0.],\n",
        "       [ 0.,  0.,  0.,  0.,  0.,  0.,  0.,  0.,  0.,  0.]])"
       ]
      }
     ],
     "prompt_number": 327
    },
    {
     "cell_type": "code",
     "collapsed": false,
     "input": [
      "w"
     ],
     "language": "python",
     "metadata": {},
     "outputs": [
      {
       "metadata": {},
       "output_type": "pyout",
       "prompt_number": 335,
       "text": [
        "1"
       ]
      }
     ],
     "prompt_number": 335
    },
    {
     "cell_type": "code",
     "collapsed": false,
     "input": [
      "true_words_in_utt[1]\n"
     ],
     "language": "python",
     "metadata": {},
     "outputs": [
      {
       "ename": "IndexError",
       "evalue": "index 1 is out of bounds for axis 0 with size 1",
       "output_type": "pyerr",
       "traceback": [
        "\u001b[0;31m---------------------------------------------------------------------------\u001b[0m\n\u001b[0;31mIndexError\u001b[0m                                Traceback (most recent call last)",
        "\u001b[0;32m<ipython-input-337-9b6028c69241>\u001b[0m in \u001b[0;36m<module>\u001b[0;34m()\u001b[0m\n\u001b[0;32m----> 1\u001b[0;31m \u001b[0mtrue_words_in_utt\u001b[0m\u001b[0;34m[\u001b[0m\u001b[0;36m1\u001b[0m\u001b[0;34m]\u001b[0m\u001b[0;34m\u001b[0m\u001b[0m\n\u001b[0m",
        "\u001b[0;31mIndexError\u001b[0m: index 1 is out of bounds for axis 0 with size 1"
       ]
      }
     ],
     "prompt_number": 337
    },
    {
     "cell_type": "code",
     "collapsed": false,
     "input": [
      "np.zeros(num_words)\n"
     ],
     "language": "python",
     "metadata": {},
     "outputs": [
      {
       "metadata": {},
       "output_type": "pyout",
       "prompt_number": 343,
       "text": [
        "array([ 0.,  0.])"
       ]
      }
     ],
     "prompt_number": 343
    },
    {
     "cell_type": "code",
     "collapsed": false,
     "input": [
      " logP_L"
     ],
     "language": "python",
     "metadata": {},
     "outputs": [
      {
       "metadata": {},
       "output_type": "pyout",
       "prompt_number": 348,
       "text": [
        "array([[ 0.,  0.,  0.,  0.,  0.,  0.,  0.,  0.,  0.,  0.],\n",
        "       [ 0.,  0.,  0.,  0.,  0.,  0.,  0.,  0.,  0.,  0.],\n",
        "       [ 0.,  0.,  0.,  0.,  0.,  0.,  0.,  0.,  0.,  0.]])"
       ]
      }
     ],
     "prompt_number": 348
    },
    {
     "cell_type": "code",
     "collapsed": false,
     "input": [
      "utts"
     ],
     "language": "python",
     "metadata": {},
     "outputs": [
      {
       "metadata": {},
       "output_type": "pyout",
       "prompt_number": 349,
       "text": [
        "array([[3, 0],\n",
        "       [0, 3],\n",
        "       [6, 0]], dtype=uint8)"
       ]
      }
     ],
     "prompt_number": 349
    },
    {
     "cell_type": "code",
     "collapsed": false,
     "input": [
      "utts = np.array([[1,0],[0,1]])\n",
      "utts\n",
      "logP_L "
     ],
     "language": "python",
     "metadata": {},
     "outputs": [
      {
       "metadata": {},
       "output_type": "pyout",
       "prompt_number": 366,
       "text": [
        "array([[ 0.,  0.,  0.,  0.],\n",
        "       [ 0.,  0.,  0.,  0.]])"
       ]
      }
     ],
     "prompt_number": 366
    },
    {
     "cell_type": "code",
     "collapsed": false,
     "input": [
      "P_L = np.zeros(shape=(num_utts,num_objects))\n",
      "\n",
      "for u in range(0,num_utts):\n",
      "    current_utt = utts[u]\n",
      "    for o in range(0,num_objects): #loop over object\n",
      "        true_words_in_utt = np.zeros(num_words)\n",
      "        for w in range(0,num_words): #loop over each word in utterance\n",
      "            if (current_utt[w] != 0):\n",
      "                true_obj = 0\n",
      "                for c in range(0,num_concepts): #loop over each concept in lexicon\n",
      "                    # if word is linked to concept and concept linked to object\n",
      "                    if ((lexicon[w,c] > 0) and (o_by_c[o,c] == 1)): \n",
      "                        true_obj = 1\n",
      "                true_words_in_utt[w] = true_obj ** current_utt[w]      \n",
      "        P_L[u,o] = np.prod(true_words_in_utt[true_words_in_utt>0]) \n",
      "\n",
      "logP_L = np.log(P_L)"
     ],
     "language": "python",
     "metadata": {},
     "outputs": []
    }
   ],
   "metadata": {}
  }
 ]
}