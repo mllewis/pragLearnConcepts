{
 "metadata": {
  "name": ""
 },
 "nbformat": 3,
 "nbformat_minor": 0,
 "worksheets": [
  {
   "cells": [
    {
     "cell_type": "markdown",
     "metadata": {},
     "source": [
      "Import classes\n"
     ]
    },
    {
     "cell_type": "code",
     "collapsed": false,
     "input": [
      "from conpact2 import *\n",
      "from nips import *\n"
     ],
     "language": "python",
     "metadata": {},
     "outputs": [],
     "prompt_number": 9
    },
    {
     "cell_type": "heading",
     "level": 3,
     "metadata": {},
     "source": [
      "*Testing version*"
     ]
    },
    {
     "cell_type": "markdown",
     "metadata": {},
     "source": [
      "Set up domain:\n"
     ]
    },
    {
     "cell_type": "code",
     "collapsed": false,
     "input": [
      "features = 1\n",
      "concepts = 3**features\n",
      "objects = 2**features\n",
      "words = 2\n",
      "utts = np.array([[1,0],[0,1]])\n",
      "max_utterance_length = 1\n",
      "num_utts = len(utts)\n",
      "lexicon = np.array([0,3])\n",
      "log_object_prior = np.ones(objects)\n",
      "\n",
      "conceptsA = np.array(list(itertools.product([0, 1, 2], repeat=features)))\n",
      "objectsA = np.array(list(itertools.product([1, 2], repeat=features)))\n",
      "lexicons = np.array(list(itertools.product(range(concepts), repeat=words))) #generate all lexicons\n",
      "\n"
     ],
     "language": "python",
     "metadata": {},
     "outputs": [
      {
       "ename": "NameError",
       "evalue": "name 'itertools' is not defined",
       "output_type": "pyerr",
       "traceback": [
        "\u001b[0;31m---------------------------------------------------------------------------\u001b[0m\n\u001b[0;31mNameError\u001b[0m                                 Traceback (most recent call last)",
        "\u001b[0;32m<ipython-input-10-d74e30768387>\u001b[0m in \u001b[0;36m<module>\u001b[0;34m()\u001b[0m\n\u001b[1;32m      9\u001b[0m \u001b[0mlog_object_prior\u001b[0m \u001b[0;34m=\u001b[0m \u001b[0mnp\u001b[0m\u001b[0;34m.\u001b[0m\u001b[0mones\u001b[0m\u001b[0;34m(\u001b[0m\u001b[0mobjects\u001b[0m\u001b[0;34m)\u001b[0m\u001b[0;34m\u001b[0m\u001b[0m\n\u001b[1;32m     10\u001b[0m \u001b[0;34m\u001b[0m\u001b[0m\n\u001b[0;32m---> 11\u001b[0;31m \u001b[0mconceptsA\u001b[0m \u001b[0;34m=\u001b[0m \u001b[0mnp\u001b[0m\u001b[0;34m.\u001b[0m\u001b[0marray\u001b[0m\u001b[0;34m(\u001b[0m\u001b[0mlist\u001b[0m\u001b[0;34m(\u001b[0m\u001b[0mitertools\u001b[0m\u001b[0;34m.\u001b[0m\u001b[0mproduct\u001b[0m\u001b[0;34m(\u001b[0m\u001b[0;34m[\u001b[0m\u001b[0;36m0\u001b[0m\u001b[0;34m,\u001b[0m \u001b[0;36m1\u001b[0m\u001b[0;34m,\u001b[0m \u001b[0;36m2\u001b[0m\u001b[0;34m]\u001b[0m\u001b[0;34m,\u001b[0m \u001b[0mrepeat\u001b[0m\u001b[0;34m=\u001b[0m\u001b[0mfeatures\u001b[0m\u001b[0;34m)\u001b[0m\u001b[0;34m)\u001b[0m\u001b[0;34m)\u001b[0m\u001b[0;34m\u001b[0m\u001b[0m\n\u001b[0m\u001b[1;32m     12\u001b[0m \u001b[0mobjectsA\u001b[0m \u001b[0;34m=\u001b[0m \u001b[0mnp\u001b[0m\u001b[0;34m.\u001b[0m\u001b[0marray\u001b[0m\u001b[0;34m(\u001b[0m\u001b[0mlist\u001b[0m\u001b[0;34m(\u001b[0m\u001b[0mitertools\u001b[0m\u001b[0;34m.\u001b[0m\u001b[0mproduct\u001b[0m\u001b[0;34m(\u001b[0m\u001b[0;34m[\u001b[0m\u001b[0;36m1\u001b[0m\u001b[0;34m,\u001b[0m \u001b[0;36m2\u001b[0m\u001b[0;34m]\u001b[0m\u001b[0;34m,\u001b[0m \u001b[0mrepeat\u001b[0m\u001b[0;34m=\u001b[0m\u001b[0mfeatures\u001b[0m\u001b[0;34m)\u001b[0m\u001b[0;34m)\u001b[0m\u001b[0;34m)\u001b[0m\u001b[0;34m\u001b[0m\u001b[0m\n\u001b[1;32m     13\u001b[0m \u001b[0mlexicons\u001b[0m \u001b[0;34m=\u001b[0m \u001b[0mnp\u001b[0m\u001b[0;34m.\u001b[0m\u001b[0marray\u001b[0m\u001b[0;34m(\u001b[0m\u001b[0mlist\u001b[0m\u001b[0;34m(\u001b[0m\u001b[0mitertools\u001b[0m\u001b[0;34m.\u001b[0m\u001b[0mproduct\u001b[0m\u001b[0;34m(\u001b[0m\u001b[0mrange\u001b[0m\u001b[0;34m(\u001b[0m\u001b[0mconcepts\u001b[0m\u001b[0;34m)\u001b[0m\u001b[0;34m,\u001b[0m \u001b[0mrepeat\u001b[0m\u001b[0;34m=\u001b[0m\u001b[0mwords\u001b[0m\u001b[0;34m)\u001b[0m\u001b[0;34m)\u001b[0m\u001b[0;34m)\u001b[0m \u001b[0;31m#generate all lexicons\u001b[0m\u001b[0;34m\u001b[0m\u001b[0m\n",
        "\u001b[0;31mNameError\u001b[0m: name 'itertools' is not defined"
       ]
      }
     ],
     "prompt_number": 10
    },
    {
     "cell_type": "code",
     "collapsed": false,
     "input": [],
     "language": "python",
     "metadata": {},
     "outputs": []
    },
    {
     "cell_type": "code",
     "collapsed": false,
     "input": [
      "words"
     ],
     "language": "python",
     "metadata": {},
     "outputs": [
      {
       "metadata": {},
       "output_type": "pyout",
       "prompt_number": 5,
       "text": [
        "2"
       ]
      }
     ],
     "prompt_number": 5
    },
    {
     "cell_type": "code",
     "collapsed": false,
     "input": [
      "concepts"
     ],
     "language": "python",
     "metadata": {},
     "outputs": [
      {
       "metadata": {},
       "output_type": "pyout",
       "prompt_number": 6,
       "text": [
        "9"
       ]
      }
     ],
     "prompt_number": 6
    },
    {
     "cell_type": "code",
     "collapsed": false,
     "input": [
      "objects"
     ],
     "language": "python",
     "metadata": {},
     "outputs": [
      {
       "metadata": {},
       "output_type": "pyout",
       "prompt_number": 7,
       "text": [
        "4"
       ]
      }
     ],
     "prompt_number": 7
    },
    {
     "cell_type": "markdown",
     "metadata": {},
     "source": [
      "Utterances, U1 = word1, U2 = word2 (two single word utterances)"
     ]
    },
    {
     "cell_type": "code",
     "collapsed": false,
     "input": [
      "utts"
     ],
     "language": "python",
     "metadata": {},
     "outputs": [
      {
       "metadata": {},
       "output_type": "pyout",
       "prompt_number": 29,
       "text": [
        "array([[1, 0],\n",
        "       [0, 1]])"
       ]
      }
     ],
     "prompt_number": 29
    },
    {
     "cell_type": "markdown",
     "metadata": {},
     "source": [
      "Lexicon, where word 1 linked to concept [0 0] and word 2 linked to concept [1 0]"
     ]
    },
    {
     "cell_type": "code",
     "collapsed": false,
     "input": [
      "lexicon"
     ],
     "language": "python",
     "metadata": {},
     "outputs": [
      {
       "metadata": {},
       "output_type": "pyout",
       "prompt_number": 6,
       "text": [
        "array([0, 3])"
       ]
      }
     ],
     "prompt_number": 6
    },
    {
     "cell_type": "markdown",
     "metadata": {},
     "source": [
      "Objects"
     ]
    },
    {
     "cell_type": "code",
     "collapsed": false,
     "input": [
      "objectsA"
     ],
     "language": "python",
     "metadata": {},
     "outputs": [
      {
       "metadata": {},
       "output_type": "pyout",
       "prompt_number": 14,
       "text": [
        "array([[1, 1],\n",
        "       [1, 2],\n",
        "       [2, 1],\n",
        "       [2, 2]])"
       ]
      }
     ],
     "prompt_number": 14
    },
    {
     "cell_type": "markdown",
     "metadata": {},
     "source": [
      "Concepts"
     ]
    },
    {
     "cell_type": "code",
     "collapsed": false,
     "input": [
      "conceptsA"
     ],
     "language": "python",
     "metadata": {},
     "outputs": [
      {
       "metadata": {},
       "output_type": "pyout",
       "prompt_number": 15,
       "text": [
        "array([[0, 0],\n",
        "       [0, 1],\n",
        "       [0, 2],\n",
        "       [1, 0],\n",
        "       [1, 1],\n",
        "       [1, 2],\n",
        "       [2, 0],\n",
        "       [2, 1],\n",
        "       [2, 2]])"
       ]
      }
     ],
     "prompt_number": 15
    },
    {
     "cell_type": "markdown",
     "metadata": {},
     "source": [
      "Set up o_by_c\n"
     ]
    },
    {
     "cell_type": "code",
     "collapsed": false,
     "input": [
      "o_by_c = np.zeros(shape=(objects,concepts))\n",
      "\n",
      "for o in range(0,objects):\n",
      "    current_o = objectsA[o,:]\n",
      "    for c in range(0,concepts):\n",
      "        current_c= conceptsA[c,:]\n",
      "        concept_check = np.zeros(features)\n",
      "        for f in range(0,features):\n",
      "            if ((current_c[f] == current_o[f]) or (current_c[f] == 0)):\n",
      "                concept_check[f] = 1\n",
      "            else:\n",
      "                concept_check[f] = 0\n",
      "        if all(concept_check):\n",
      "            o_by_c[o,c] = 1\n",
      "            \n",
      "o_by_c"
     ],
     "language": "python",
     "metadata": {},
     "outputs": [
      {
       "metadata": {},
       "output_type": "pyout",
       "prompt_number": 12,
       "text": [
        "array([[ 1.,  1.,  0.,  1.,  1.,  0.,  0.,  0.,  0.],\n",
        "       [ 1.,  0.,  1.,  1.,  0.,  1.,  0.,  0.,  0.],\n",
        "       [ 1.,  1.,  0.,  0.,  0.,  0.,  1.,  1.,  0.],\n",
        "       [ 1.,  0.,  1.,  0.,  0.,  0.,  1.,  0.,  1.]])"
       ]
      }
     ],
     "prompt_number": 12
    },
    {
     "cell_type": "markdown",
     "metadata": {},
     "source": [
      "Go from w x c -> u x o (via o_by_c)"
     ]
    },
    {
     "cell_type": "code",
     "collapsed": false,
     "input": [
      "# this only works for old (wxc) lexicon representation\n",
      "P_L = np.zeros(shape=(num_utts,objects))\n",
      "\n",
      "for u in range(0,num_utts): # loop over utterances\n",
      "    current_utt = utts[u]\n",
      "    for o in range(0,objects): #loop over object\n",
      "        true_words_in_utt = np.zeros(words)\n",
      "        for w in range(0,words): #loop over each word in utterance\n",
      "            if (current_utt[w] != 0):\n",
      "                true_obj = 0\n",
      "                for c in range(0,concepts): #loop over each concept in lexicon\n",
      "                    # if word is linked to concept and concept linked to object\n",
      "                    if ((lexicon[w,c] == 1) and (o_by_c[o,c] == 1)): \n",
      "                        true_obj = 1\n",
      "                true_words_in_utt[w] = true_obj      \n",
      "                #P_L[u,o] = np.prod(true_words_in_utt[true_words_in_utt>0]) \n",
      "                P_L[u,o] = (np.sum(true_words_in_utt)) > 0 # if object true of any word in uttrance\n",
      "\n",
      "\n",
      "#logP_L = np.log(P_L)\n",
      "P_L\n"
     ],
     "language": "python",
     "metadata": {},
     "outputs": [
      {
       "metadata": {},
       "output_type": "pyout",
       "prompt_number": 27,
       "text": [
        "array([[ 1.,  0.,  0.,  0.],\n",
        "       [ 0.,  0.,  0.,  1.]])"
       ]
      }
     ],
     "prompt_number": 27
    },
    {
     "cell_type": "markdown",
     "metadata": {},
     "source": [
      "__Things to think about__: \n",
      "\n",
      "(1) If any word in utterance is linked to object, u(o) = T. But we might want this to be graded? resolved by just using existing code.\n",
      "\n",
      "(2) Impose constraints on lexicons (1-1)? Yes.\n",
      "\n",
      "(3) If object is true of concept, then o_c = T. But we might want this to be graded (as function of number of shared features)? maybe later..."
     ]
    },
    {
     "cell_type": "markdown",
     "metadata": {},
     "source": [
      "__New version using Nathaniel's L0 code...__: \n",
      "\n",
      "Nathaniel's code goes from wXo -> uXo\n",
      "\n",
      "What we want to do is go from wXc -> wXo (via oXc) -> uXo\n",
      "\n",
      "So, we ant to create a wXo thing and then pass it to Nathaniels code. \n",
      "\n",
      "The other change is to think abotu the lexicon in the new was 1X|w|.\n",
      "\n",
      "So, it's ACTUALLY: 1X|w| -> wXo (via oXc) -> uXo"
     ]
    },
    {
     "cell_type": "code",
     "collapsed": false,
     "input": [
      "wXo = np.zeros(shape=(words,objects))\n",
      "\n",
      "for w in range(0, words):\n",
      "    wXo[w,:] = o_by_c[:,lexicon[w]] \n",
      "    \n",
      "# The indexing needs to be fixed if we want words to be able to be linked to no concept\n",
      "# There's no way in the current representation to indicate a null link (because 0 indexes a concept)\n",
      "# need to generage lexicons with range(concepts + 1)\n",
      "    \n",
      "wXo"
     ],
     "language": "python",
     "metadata": {},
     "outputs": [
      {
       "metadata": {},
       "output_type": "pyout",
       "prompt_number": 21,
       "text": [
        "array([[ 1.,  1.,  1.,  1.],\n",
        "       [ 0.,  1.,  0.,  1.]])"
       ]
      }
     ],
     "prompt_number": 21
    },
    {
     "cell_type": "markdown",
     "metadata": {},
     "source": [
      "Now, add this to L0 (and add noise):"
     ]
    },
    {
     "cell_type": "code",
     "collapsed": false,
     "input": [
      "log_object_prior = self.log_object_prior(log_object_prior)\n",
      "w_by_o = np.zeros(shape=(self.adjectives,self.objects))\n",
      "\n",
      "# generate w_by_o via o_by_c (equivalent to the \"lexicon\" in the old model)\n",
      "for w in range(0, words):\n",
      "    w_by_o[w,:] = self.o_by_c[:,lexicon[w]]\n",
      "\n",
      "# add noise\n",
      "w_by_o_noise = np.ones(shape=np.shape(w_by_o))\n",
      "w_by_o_noise_Z = np.add.reduce(w_by_o_noise, axis=1) # normalize noise\n",
      "w_by_o_noise /= w_by_o_noise_Z [:, np.newaxis]\n",
      "\n",
      "w_by_o_Z = np.add.reduce(w_by_o, axis=1) # normalize w_by_o\n",
      "w_by_o /= w_by_o_Z[:, np.newaxis]\n",
      "\n",
      "w_by_o_noise *= self.noise \n",
      "w_by_o *= 1-self.noise\n",
      "w_by_o += w_by_o_noise\n",
      "        \n",
      "log_wXo= np.log(w_by_o) # put in log space\n",
      "\n",
      "# literal P(obj|utt) is, by stipulation, proportional to the product\n",
      "# of P(obj|word) for all words in utt. Then we multiply by the\n",
      "# (context specific) object prior.\n",
      "logP_wXo = np.dot(self.utts, log_wXo)\n",
      "logP_wXo += log_object_prior[np.newaxis, :]\n",
      "logZ = np.logaddexp.reduce(logP_wXo, axis=1) # get sum (denominator for normalization)\n",
      "logP_wXo -= logZ[:, np.newaxis] # normalize]"
     ],
     "language": "python",
     "metadata": {},
     "outputs": []
    },
    {
     "cell_type": "markdown",
     "metadata": {},
     "source": [
      "\n"
     ]
    },
    {
     "cell_type": "heading",
     "level": 3,
     "metadata": {},
     "source": [
      "TO DO"
     ]
    },
    {
     "cell_type": "markdown",
     "metadata": {},
     "source": [
      "\n",
      "\n",
      "(1) Get this to do inference. Figure out how to enumerate lexicons.\n",
      "\n",
      "(2) What are the interesting experimental conditions to run? \n",
      "\n",
      "__Idea 1__: 'w1 [1 1]' and then test on either (a) 'w2 [1 1] [2 2]', or (b) 'w2 [1 1] [1 2]' =>   expect graded generalization?\n",
      "\n",
      "__Idea 2__: \n",
      "\n",
      "1) Since we predict a difference between on-the-fly pragmatic\n",
      "interpretations and the resulting beliefs about literal meaning, probe\n",
      "each separately. To assess pragmatic interpretation, do an ME-style\n",
      "experiment (\"the alien said to click on the 'fep', which one do you\n",
      "think they wanted you to click on?\"); then to assess literal meaning,\n",
      "do a post-test without any communicative context (\"which of these\n",
      "objects do you think the word 'fep' could refer to?\").\n",
      "\n",
      "2) To create interesting differences and the possibility of\n",
      "generalization, use stimuli with features that allow for interesting\n",
      "subordinate/superordinate categories and specificity implicatures. So\n",
      "the core example we were thinking of is a contrast between two\n",
      "objects:\n",
      "  Object 1: one familiar/nameable feature, one novel feature\n",
      "  Object 2: one novel feature *shared with object 1*, one unique novel feature\n",
      "So the familiar feature on object 1 suggests that by ME, a novel word\n",
      "should refer to object 2. But in a learning+pragmatics+concepts model,\n",
      "this might be because \"fep\" literally refers to the *shared* feature\n",
      "and is being pragmatically strengthened; without pragmatics, it needs\n",
      "to refer to the unique feature, or perhaps a conjunction.\n",
      "\n",
      "'w1 1[N1, F1] 2[N1 N2]' w1 -> 2 ... but could refer to N1 (pragmaticall strengthened) or N2 (without pragmatics, a constraint)\n",
      "\n",
      "*this is really similiar to what Elise is doing, except without ME\n",
      "\n",
      "\n",
      "    \n",
      "    "
     ]
    },
    {
     "cell_type": "heading",
     "level": 3,
     "metadata": {},
     "source": [
      "SIMULATIONS TO RUN:\n"
     ]
    },
    {
     "cell_type": "markdown",
     "metadata": {},
     "source": [
      "1) ME basic + ME similarity\n",
      "\n",
      "2) headband bandana setup\n",
      "\n",
      "3) #2 above"
     ]
    },
    {
     "cell_type": "heading",
     "level": 3,
     "metadata": {},
     "source": [
      "Now, let's do inference:\n",
      "\n",
      "\n"
     ]
    },
    {
     "cell_type": "markdown",
     "metadata": {},
     "source": [
      "Import stuff\n"
     ]
    },
    {
     "cell_type": "code",
     "collapsed": false,
     "input": [
      "from nips_C import *\n",
      "import itertools\n",
      "from scipy import stats\n",
      "import matplotlib as mpl\n",
      "import matplotlib.pyplot as plt\n",
      "import matplotlib.ticker as ticker\n",
      "import seaborn as sns\n",
      "\n",
      "%pylab --no-import-all inline\n",
      "\n"
     ],
     "language": "python",
     "metadata": {},
     "outputs": [
      {
       "output_type": "stream",
       "stream": "stdout",
       "text": [
        "Populating the interactive namespace from numpy and matplotlib\n"
       ]
      }
     ],
     "prompt_number": 25
    },
    {
     "cell_type": "markdown",
     "metadata": {},
     "source": [
      "(1) basic mutual exclusivity:"
     ]
    },
    {
     "cell_type": "code",
     "collapsed": false,
     "input": [
      "# set up world\n",
      "d = dom(adjectives=2, features=1)\n",
      "listener = conpact2_C.ExactEnumerationSampler(d)\n",
      "\n",
      "# look at uniform prior\n",
      "np.exp(listener.weighted_lexicons()[0])\n",
      "\n",
      "# but, we want a prior with a bias to map word 1 to concept 1\n",
      "lexicon_prior = np.log(np.asarray([1, 1, 1, 4, 4, 4, 1, 1, 1]))\n",
      "\n",
      "# set up listener with this prior\n",
      "listener = conpact2_C.ExactEnumerationSampler(d, lexicon_prior=lexicon_prior)\n",
      "\n",
      "figure;\n",
      "sns.set(context=\"talk\")\n",
      "fig, ax = plt.subplots()\n",
      "fig.suptitle('Prior distribution over lexicons', fontsize=20)\n",
      "pos = np.arange(9) + .6\n",
      "ax.set_xlim(0,10)\n",
      "ax.set_ylim(0,1)\n",
      "ax.set_xlabel('lexicons')\n",
      "xticks(np.arange(9)+1)\n",
      "ax.bar(pos, np.exp(listener.weighted_lexicons()[0]), color=sns.husl_palette(6, s=.75), ecolor=\"#333333\");\n",
      "ax.set_xticklabels(lexicons)\n",
      "\n",
      "\n",
      "## Distribution over objects in-the-moment\n",
      "sns.set(context=\"talk\")\n",
      "\n",
      "fig, ax = plt.subplots()\n",
      "fig.suptitle('Distribution over objects in-the-moment', fontsize=20)\n",
      "pos = np.arange(2) + .6\n",
      "ax.set_xlim(0, 3)\n",
      "ax.set_ylim(0, 1)\n",
      "ax.set_xlabel('objects')\n",
      "xticks([1, 2])\n",
      "ax.bar(pos, np.exp(listener.marginal_dist_n(LISTENER_DEPTH - 1)[1, :]), color=sns.husl_palette(6, s=.75), ecolor=\"#333333\");\n",
      "\n",
      "## Look at data adding\n",
      "\n",
      "utterances = np.array([1 0])\n",
      "\n",
      "## Distribution over lexicons\n",
      "# add data\n",
      "listener.add_data([conpact2_C.LDataUtt(LISTENER_DEPTH - 1, utterances[0])])\n",
      "\n",
      "figure;\n",
      "sns.set(context=\"talk\")\n",
      "fig, ax = plt.subplots()\n",
      "fig.suptitle('Posterior distribution over lexicons', fontsize=20)\n",
      "pos = np.arange(9) + .6\n",
      "ax.set_xlim(0,10)\n",
      "ax.set_ylim(0,1)\n",
      "ax.set_xlabel('lexicons')\n",
      "xticks(np.arange(9)+1)\n",
      "ax.bar(pos, np.exp(listener.weighted_lexicons()[0]), color=sns.husl_palette(6, s=.75), ecolor=\"#333333\");\n",
      "ax.set_xticklabels(lexicons)\n",
      "\n",
      "\n",
      "#labels\n",
      "#mis code\n",
      "# before = np.exp(listener.marginal_dist_n(LISTENER_DEPTH - 1))\n",
      "\n",
      "\n",
      "#np.exp(listener.weighted_lexicons()[0])\n",
      "\n",
      "#bar(np.arange(9), np.exp(listener.weighted_lexicons()[0]))\n",
      "#weights, lexicons = listener.weighted_lexicons()\n",
      "\n",
      "#figure(); bar(np.arange(9), np.exp(listener.weighted_lexicons()[0]))\n",
      "\n",
      "#after = np.exp(listener.marginal_dist_n(LISTENER_DEPTH - 1))\n",
      "\n",
      "#before, after\n",
      "\n",
      "\n",
      "#lexicons\n",
      "#range(0,lexicons)\n"
     ],
     "language": "python",
     "metadata": {},
     "outputs": [
      {
       "metadata": {},
       "output_type": "pyout",
       "prompt_number": 120,
       "text": [
        "[<matplotlib.text.Text at 0x10f62d810>,\n",
        " <matplotlib.text.Text at 0x10e4b68d0>,\n",
        " <matplotlib.text.Text at 0x10e787290>,\n",
        " <matplotlib.text.Text at 0x10e787a10>,\n",
        " <matplotlib.text.Text at 0x10e7891d0>,\n",
        " <matplotlib.text.Text at 0x10e789950>,\n",
        " <matplotlib.text.Text at 0x10e78b110>,\n",
        " <matplotlib.text.Text at 0x10e78b890>,\n",
        " <matplotlib.text.Text at 0x10e78f050>]"
       ]
      },
      {
       "metadata": {},
       "output_type": "display_data",
       "png": "[encoded data removed]",
       "text": [
        "<matplotlib.figure.Figure at 0x10f635950>"
       ]
      },
      {
       "metadata": {},
       "output_type": "display_data",
       "png": "[encoded data removed]",
       "text": [
        "<matplotlib.figure.Figure at 0x10d767c90>"
       ]
      },
      {
       "metadata": {},
       "output_type": "display_data",
       "png": "[encoded data removed]",
       "text": [
        "<matplotlib.figure.Figure at 0x10f334e90>"
       ]
      }
     ],
     "prompt_number": 120
    },
    {
     "cell_type": "markdown",
     "metadata": {},
     "source": [
      "(2) Our idea\n",
      "\n",
      "\n",
      "SIM3 features, object_prior with all weight on two objects present in display, lexicon_prior with word mapped to known feature (concept with only relevant feature)"
     ]
    },
    {
     "cell_type": "code",
     "collapsed": false,
     "input": [
      "from nips_C import *\n",
      "import itertools\n",
      "features = 3\n",
      "d = dom(adjectives=2, features=3)\n",
      "\n",
      "lexicons = np.array(list(itertools.product(range(3**3), repeat=2))) #generate all lexicons\n",
      "conceptsA = np.array(list(itertools.product([0, 1, 2], repeat=features)))\n",
      "\n",
      "#[F N N] \n",
      "np.all(conceptsA == [[2, 0, 0]], axis=1).nonzero()[0][0]\n",
      "lexicon_prior = np.ones(lexicons.shape[0])\n",
      "lexicon_prior[(lexicons[:,0] == 18)] = 4\n",
      "\n",
      "log_object_prior = np.log(np.asarray([0, 0, 0, .5, 0, 0, .5, 0]))\n",
      "\n",
      "listener = conpact2_C.ExactEnumerationSampler(d, lexicon_prior=lexicon_prior)\n",
      "\n",
      "bar(np.arange(9), np.exp(listener.weighted_lexicons()[0]))\n",
      "\n",
      "before = np.exp(listener.marginal_dist_n(LISTENER_DEPTH - 1, log_object_prior = log_object_prior))\n",
      "\n",
      "# look at ME case\n",
      "# learning\n",
      "listener.add_data([conpact2_C.LDataUtt(LISTENER_DEPTH - 1, 1)])\n",
      "\n",
      "#\n",
      "#weights, lexicons = listener.weighted_lexicons()\n",
      "\n",
      "figure(); bar(np.arange(9), np.exp(listener.weighted_lexicons()[0]))\n",
      "\n",
      "after = np.exp(listener.marginal_dist_n(LISTENER_DEPTH - 1))\n",
      "\n",
      "before, after"
     ],
     "language": "python",
     "metadata": {},
     "outputs": [
      {
       "ename": "AssertionError",
       "evalue": "incompatible sizes: argument 'height' must be length 9 or scalar",
       "output_type": "pyerr",
       "traceback": [
        "\u001b[0;31m---------------------------------------------------------------------------\u001b[0m\n\u001b[0;31mAssertionError\u001b[0m                            Traceback (most recent call last)",
        "\u001b[0;32m<ipython-input-4-89fd47b1bf9e>\u001b[0m in \u001b[0;36m<module>\u001b[0;34m()\u001b[0m\n\u001b[1;32m     16\u001b[0m \u001b[0mlistener\u001b[0m \u001b[0;34m=\u001b[0m \u001b[0mconpact2_C\u001b[0m\u001b[0;34m.\u001b[0m\u001b[0mExactEnumerationSampler\u001b[0m\u001b[0;34m(\u001b[0m\u001b[0md\u001b[0m\u001b[0;34m,\u001b[0m \u001b[0mlexicon_prior\u001b[0m\u001b[0;34m=\u001b[0m\u001b[0mlexicon_prior\u001b[0m\u001b[0;34m)\u001b[0m\u001b[0;34m\u001b[0m\u001b[0m\n\u001b[1;32m     17\u001b[0m \u001b[0;34m\u001b[0m\u001b[0m\n\u001b[0;32m---> 18\u001b[0;31m \u001b[0mbar\u001b[0m\u001b[0;34m(\u001b[0m\u001b[0mnp\u001b[0m\u001b[0;34m.\u001b[0m\u001b[0marange\u001b[0m\u001b[0;34m(\u001b[0m\u001b[0;36m9\u001b[0m\u001b[0;34m)\u001b[0m\u001b[0;34m,\u001b[0m \u001b[0mnp\u001b[0m\u001b[0;34m.\u001b[0m\u001b[0mexp\u001b[0m\u001b[0;34m(\u001b[0m\u001b[0mlistener\u001b[0m\u001b[0;34m.\u001b[0m\u001b[0mweighted_lexicons\u001b[0m\u001b[0;34m(\u001b[0m\u001b[0;34m)\u001b[0m\u001b[0;34m[\u001b[0m\u001b[0;36m0\u001b[0m\u001b[0;34m]\u001b[0m\u001b[0;34m)\u001b[0m\u001b[0;34m)\u001b[0m\u001b[0;34m\u001b[0m\u001b[0m\n\u001b[0m\u001b[1;32m     19\u001b[0m \u001b[0;34m\u001b[0m\u001b[0m\n\u001b[1;32m     20\u001b[0m \u001b[0mbefore\u001b[0m \u001b[0;34m=\u001b[0m \u001b[0mnp\u001b[0m\u001b[0;34m.\u001b[0m\u001b[0mexp\u001b[0m\u001b[0;34m(\u001b[0m\u001b[0mlistener\u001b[0m\u001b[0;34m.\u001b[0m\u001b[0mmarginal_dist_n\u001b[0m\u001b[0;34m(\u001b[0m\u001b[0mLISTENER_DEPTH\u001b[0m \u001b[0;34m-\u001b[0m \u001b[0;36m1\u001b[0m\u001b[0;34m,\u001b[0m \u001b[0mlog_object_prior\u001b[0m \u001b[0;34m=\u001b[0m \u001b[0mlog_object_prior\u001b[0m\u001b[0;34m)\u001b[0m\u001b[0;34m)\u001b[0m\u001b[0;34m\u001b[0m\u001b[0m\n",
        "\u001b[0;32m//anaconda/lib/python2.7/site-packages/matplotlib/pyplot.pyc\u001b[0m in \u001b[0;36mbar\u001b[0;34m(left, height, width, bottom, hold, **kwargs)\u001b[0m\n\u001b[1;32m   2513\u001b[0m         \u001b[0max\u001b[0m\u001b[0;34m.\u001b[0m\u001b[0mhold\u001b[0m\u001b[0;34m(\u001b[0m\u001b[0mhold\u001b[0m\u001b[0;34m)\u001b[0m\u001b[0;34m\u001b[0m\u001b[0m\n\u001b[1;32m   2514\u001b[0m     \u001b[0;32mtry\u001b[0m\u001b[0;34m:\u001b[0m\u001b[0;34m\u001b[0m\u001b[0m\n\u001b[0;32m-> 2515\u001b[0;31m         \u001b[0mret\u001b[0m \u001b[0;34m=\u001b[0m \u001b[0max\u001b[0m\u001b[0;34m.\u001b[0m\u001b[0mbar\u001b[0m\u001b[0;34m(\u001b[0m\u001b[0mleft\u001b[0m\u001b[0;34m,\u001b[0m \u001b[0mheight\u001b[0m\u001b[0;34m,\u001b[0m \u001b[0mwidth\u001b[0m\u001b[0;34m=\u001b[0m\u001b[0mwidth\u001b[0m\u001b[0;34m,\u001b[0m \u001b[0mbottom\u001b[0m\u001b[0;34m=\u001b[0m\u001b[0mbottom\u001b[0m\u001b[0;34m,\u001b[0m \u001b[0;34m**\u001b[0m\u001b[0mkwargs\u001b[0m\u001b[0;34m)\u001b[0m\u001b[0;34m\u001b[0m\u001b[0m\n\u001b[0m\u001b[1;32m   2516\u001b[0m         \u001b[0mdraw_if_interactive\u001b[0m\u001b[0;34m(\u001b[0m\u001b[0;34m)\u001b[0m\u001b[0;34m\u001b[0m\u001b[0m\n\u001b[1;32m   2517\u001b[0m     \u001b[0;32mfinally\u001b[0m\u001b[0;34m:\u001b[0m\u001b[0;34m\u001b[0m\u001b[0m\n",
        "\u001b[0;32m//anaconda/lib/python2.7/site-packages/matplotlib/axes.pyc\u001b[0m in \u001b[0;36mbar\u001b[0;34m(self, left, height, width, bottom, **kwargs)\u001b[0m\n\u001b[1;32m   4997\u001b[0m         assert len(height) == nbars, (\"incompatible sizes: argument 'height' \"\n\u001b[1;32m   4998\u001b[0m                                       \u001b[0;34m\"must be length %d or scalar\"\u001b[0m \u001b[0;34m%\u001b[0m\u001b[0;34m\u001b[0m\u001b[0m\n\u001b[0;32m-> 4999\u001b[0;31m                                       nbars)\n\u001b[0m\u001b[1;32m   5000\u001b[0m         assert len(width) == nbars, (\"incompatible sizes: argument 'width' \"\n\u001b[1;32m   5001\u001b[0m                                      \u001b[0;34m\"must be length %d or scalar\"\u001b[0m \u001b[0;34m%\u001b[0m\u001b[0;34m\u001b[0m\u001b[0m\n",
        "\u001b[0;31mAssertionError\u001b[0m: incompatible sizes: argument 'height' must be length 9 or scalar"
       ]
      },
      {
       "output_type": "stream",
       "stream": "stderr",
       "text": [
        "-c:14: RuntimeWarning: divide by zero encountered in log\n"
       ]
      },
      {
       "metadata": {},
       "output_type": "display_data",
       "png": "[encoded data removed]",
       "text": [
        "<matplotlib.figure.Figure at 0x107758850>"
       ]
      }
     ],
     "prompt_number": 4
    },
    {
     "cell_type": "markdown",
     "metadata": {},
     "source": [
      "'w1 1[N1, F1] 2[N1 N2]' w1 -> 2\n",
      "\n",
      "feature_present = 2\n",
      "feature_absent = 1\n",
      "[F N1 N2]\n",
      "\n",
      "[2 2 1] \n",
      "\n",
      "[1 2 2]"
     ]
    },
    {
     "cell_type": "code",
     "collapsed": false,
     "input": [
      "#from matplotlib import colors\n",
      "\n",
      "utterances = np.asarray([[0,1],[2,3],[2, 1]])\n",
      "                          \n",
      "# define the colormap\n",
      "cmap = plt.cm.jet\n",
      "# extract all colors from the .jet map\n",
      "cmaplist = [cmap(i) for i in range(cmap.N)]\n",
      "# force the first color entry to be grey\n",
      "cmaplist[0] = (.5,.5,.5,1.0)\n",
      "# create the new map\n",
      "cmap = cmap.from_list('Custom cmap', cmaplist, cmap.N)\n",
      "\n",
      "# define the bins and normalize\n",
      "bounds = np.linspace(0,4,5)\n",
      "norm = mpl.colors.BoundaryNorm(bounds, cmap.N)\n",
      "pcolor(utterances, cmap=cmap)\n",
      "plt.xlabel('words')\n",
      "plt.ylabel('data points')\n",
      "ax2 = plt.axes([0.95, 0.1, 0.03, 0.8])\n",
      "cb = mpl.colorbar.ColorbarBase(ax2, cmap=cmap, spacing='proportional', norm = norm, ticks = [.5, 1.5, 2.5, 3.5], boundaries=bounds, format='%1i')\n",
      "\n",
      "utterances\n"
     ],
     "language": "python",
     "metadata": {},
     "outputs": [
      {
       "metadata": {},
       "output_type": "pyout",
       "prompt_number": 74,
       "text": [
        "array([[0, 1],\n",
        "       [2, 3],\n",
        "       [2, 1]])"
       ]
      },
      {
       "metadata": {},
       "output_type": "display_data",
       "png": "[encoded data removed]",
       "text": [
        "<matplotlib.figure.Figure at 0x10e006850>"
       ]
      }
     ],
     "prompt_number": 74
    },
    {
     "cell_type": "code",
     "collapsed": false,
     "input": [
      "import matplotlib.pyplot as plt\n",
      "from matplotlib import colors\n",
      "import numpy as np\n",
      "\n",
      "np.random.seed(101)\n",
      "zvals = np.random.rand(100, 100) * 10\n",
      "\n",
      "# make a color map of fixed colors\n",
      "cmap = colors.ListedColormap(['white', 'red'])\n",
      "bounds=[0,5,10]\n",
      "norm = colors.BoundaryNorm(bounds, cmap.N)\n",
      "\n",
      "# tell imshow about color map so that only set colors are used\n",
      "img = plt.imshow(zvals, interpolation='nearest', origin='lower',\n",
      "                    cmap=cmap, norm=norm)\n",
      "\n",
      "# make a color bar\n",
      "plt.colorbar(img, cmap=cmap, norm=norm, boundaries=bounds, ticks=[0, 5, 10])\n",
      "cmap"
     ],
     "language": "python",
     "metadata": {},
     "outputs": [
      {
       "metadata": {},
       "output_type": "pyout",
       "prompt_number": 40,
       "text": [
        "<matplotlib.colors.ListedColormap at 0x10d01f050>"
       ]
      },
      {
       "metadata": {},
       "output_type": "display_data",
       "png": "[encoded data removed]",
       "text": [
        "<matplotlib.figure.Figure at 0x10d010dd0>"
       ]
      }
     ],
     "prompt_number": 40
    },
    {
     "cell_type": "code",
     "collapsed": false,
     "input": [
      "cmap"
     ],
     "language": "python",
     "metadata": {},
     "outputs": [
      {
       "metadata": {},
       "output_type": "pyout",
       "prompt_number": 41,
       "text": [
        "<matplotlib.colors.ListedColormap at 0x10d01f050>"
       ]
      }
     ],
     "prompt_number": 41
    }
   ],
   "metadata": {}
  }
 ]
}